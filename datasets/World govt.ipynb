{
 "cells": [
  {
   "cell_type": "code",
   "execution_count": 38,
   "id": "fb41c9ce",
   "metadata": {},
   "outputs": [],
   "source": [
    "import pandas as pd\n",
    "import numpy as np\n",
    "\n",
    "import seaborn as sns\n",
    "import matplotlib.pyplot as plt"
   ]
  },
  {
   "cell_type": "code",
   "execution_count": 2,
   "id": "cfae6daf",
   "metadata": {},
   "outputs": [],
   "source": [
    "wgovt = pd.read_csv('C:/Kulish Dhanju/Study/Practice/datasets/WorldExpenditures.csv')"
   ]
  },
  {
   "cell_type": "code",
   "execution_count": 3,
   "id": "f02f744f",
   "metadata": {
    "scrolled": true
   },
   "outputs": [
    {
     "data": {
      "text/html": [
       "<div>\n",
       "<style scoped>\n",
       "    .dataframe tbody tr th:only-of-type {\n",
       "        vertical-align: middle;\n",
       "    }\n",
       "\n",
       "    .dataframe tbody tr th {\n",
       "        vertical-align: top;\n",
       "    }\n",
       "\n",
       "    .dataframe thead th {\n",
       "        text-align: right;\n",
       "    }\n",
       "</style>\n",
       "<table border=\"1\" class=\"dataframe\">\n",
       "  <thead>\n",
       "    <tr style=\"text-align: right;\">\n",
       "      <th></th>\n",
       "      <th>Unnamed: 0</th>\n",
       "      <th>Year</th>\n",
       "      <th>Country</th>\n",
       "      <th>Sector</th>\n",
       "      <th>Expenditure(million USD)</th>\n",
       "      <th>GDP(%)</th>\n",
       "    </tr>\n",
       "  </thead>\n",
       "  <tbody>\n",
       "    <tr>\n",
       "      <th>0</th>\n",
       "      <td>0</td>\n",
       "      <td>2000</td>\n",
       "      <td>Australia</td>\n",
       "      <td>Total function</td>\n",
       "      <td>153122.633</td>\n",
       "      <td>37.36193</td>\n",
       "    </tr>\n",
       "    <tr>\n",
       "      <th>1</th>\n",
       "      <td>1</td>\n",
       "      <td>2000</td>\n",
       "      <td>Australia</td>\n",
       "      <td>Agriculture, forestry, fishing and hunting</td>\n",
       "      <td>2195.583</td>\n",
       "      <td>0.53572</td>\n",
       "    </tr>\n",
       "    <tr>\n",
       "      <th>2</th>\n",
       "      <td>2</td>\n",
       "      <td>2000</td>\n",
       "      <td>Australia</td>\n",
       "      <td>Mining, manufacturing and construction</td>\n",
       "      <td>905.018</td>\n",
       "      <td>0.22082</td>\n",
       "    </tr>\n",
       "    <tr>\n",
       "      <th>3</th>\n",
       "      <td>3</td>\n",
       "      <td>2000</td>\n",
       "      <td>Australia</td>\n",
       "      <td>Transport</td>\n",
       "      <td>11417.379</td>\n",
       "      <td>2.78584</td>\n",
       "    </tr>\n",
       "    <tr>\n",
       "      <th>4</th>\n",
       "      <td>4</td>\n",
       "      <td>2000</td>\n",
       "      <td>Australia</td>\n",
       "      <td>Fuel and energy</td>\n",
       "      <td>2251.241</td>\n",
       "      <td>0.54930</td>\n",
       "    </tr>\n",
       "    <tr>\n",
       "      <th>...</th>\n",
       "      <td>...</td>\n",
       "      <td>...</td>\n",
       "      <td>...</td>\n",
       "      <td>...</td>\n",
       "      <td>...</td>\n",
       "      <td>...</td>\n",
       "    </tr>\n",
       "    <tr>\n",
       "      <th>25728</th>\n",
       "      <td>25728</td>\n",
       "      <td>2021</td>\n",
       "      <td>United States of America</td>\n",
       "      <td>Social protection</td>\n",
       "      <td>2827585.060</td>\n",
       "      <td>12.07255</td>\n",
       "    </tr>\n",
       "    <tr>\n",
       "      <th>25729</th>\n",
       "      <td>25729</td>\n",
       "      <td>2021</td>\n",
       "      <td>United States of America</td>\n",
       "      <td>General public services</td>\n",
       "      <td>1291640.230</td>\n",
       "      <td>5.51474</td>\n",
       "    </tr>\n",
       "    <tr>\n",
       "      <th>25730</th>\n",
       "      <td>25730</td>\n",
       "      <td>2021</td>\n",
       "      <td>United States of America</td>\n",
       "      <td>Defence</td>\n",
       "      <td>759321.990</td>\n",
       "      <td>3.24197</td>\n",
       "    </tr>\n",
       "    <tr>\n",
       "      <th>25731</th>\n",
       "      <td>25731</td>\n",
       "      <td>2021</td>\n",
       "      <td>United States of America</td>\n",
       "      <td>Public order and safety</td>\n",
       "      <td>459973.190</td>\n",
       "      <td>1.96388</td>\n",
       "    </tr>\n",
       "    <tr>\n",
       "      <th>25732</th>\n",
       "      <td>25732</td>\n",
       "      <td>2021</td>\n",
       "      <td>United States of America</td>\n",
       "      <td>Recreation, culture and religion</td>\n",
       "      <td>62528.780</td>\n",
       "      <td>0.26697</td>\n",
       "    </tr>\n",
       "  </tbody>\n",
       "</table>\n",
       "<p>25733 rows × 6 columns</p>\n",
       "</div>"
      ],
      "text/plain": [
       "       Unnamed: 0  Year                   Country  \\\n",
       "0               0  2000                 Australia   \n",
       "1               1  2000                 Australia   \n",
       "2               2  2000                 Australia   \n",
       "3               3  2000                 Australia   \n",
       "4               4  2000                 Australia   \n",
       "...           ...   ...                       ...   \n",
       "25728       25728  2021  United States of America   \n",
       "25729       25729  2021  United States of America   \n",
       "25730       25730  2021  United States of America   \n",
       "25731       25731  2021  United States of America   \n",
       "25732       25732  2021  United States of America   \n",
       "\n",
       "                                           Sector  Expenditure(million USD)  \\\n",
       "0                                  Total function                153122.633   \n",
       "1      Agriculture, forestry, fishing and hunting                  2195.583   \n",
       "2          Mining, manufacturing and construction                   905.018   \n",
       "3                                       Transport                 11417.379   \n",
       "4                                 Fuel and energy                  2251.241   \n",
       "...                                           ...                       ...   \n",
       "25728                           Social protection               2827585.060   \n",
       "25729                     General public services               1291640.230   \n",
       "25730                                     Defence                759321.990   \n",
       "25731                     Public order and safety                459973.190   \n",
       "25732            Recreation, culture and religion                 62528.780   \n",
       "\n",
       "         GDP(%)  \n",
       "0      37.36193  \n",
       "1       0.53572  \n",
       "2       0.22082  \n",
       "3       2.78584  \n",
       "4       0.54930  \n",
       "...         ...  \n",
       "25728  12.07255  \n",
       "25729   5.51474  \n",
       "25730   3.24197  \n",
       "25731   1.96388  \n",
       "25732   0.26697  \n",
       "\n",
       "[25733 rows x 6 columns]"
      ]
     },
     "execution_count": 3,
     "metadata": {},
     "output_type": "execute_result"
    }
   ],
   "source": [
    "wgovt"
   ]
  },
  {
   "cell_type": "code",
   "execution_count": 4,
   "id": "7f3661f5",
   "metadata": {},
   "outputs": [
    {
     "name": "stdout",
     "output_type": "stream",
     "text": [
      "<class 'pandas.core.frame.DataFrame'>\n",
      "RangeIndex: 25733 entries, 0 to 25732\n",
      "Data columns (total 6 columns):\n",
      " #   Column                    Non-Null Count  Dtype  \n",
      "---  ------                    --------------  -----  \n",
      " 0   Unnamed: 0                25733 non-null  int64  \n",
      " 1   Year                      25733 non-null  int64  \n",
      " 2   Country                   25733 non-null  object \n",
      " 3   Sector                    25733 non-null  object \n",
      " 4   Expenditure(million USD)  25173 non-null  float64\n",
      " 5   GDP(%)                    25173 non-null  float64\n",
      "dtypes: float64(2), int64(2), object(2)\n",
      "memory usage: 1.2+ MB\n"
     ]
    }
   ],
   "source": [
    "wgovt.info()"
   ]
  },
  {
   "cell_type": "code",
   "execution_count": 7,
   "id": "3c76340c",
   "metadata": {},
   "outputs": [],
   "source": [
    "wgovt.dropna(inplace= True)"
   ]
  },
  {
   "cell_type": "code",
   "execution_count": 8,
   "id": "a3eec554",
   "metadata": {},
   "outputs": [
    {
     "data": {
      "text/html": [
       "<div>\n",
       "<style scoped>\n",
       "    .dataframe tbody tr th:only-of-type {\n",
       "        vertical-align: middle;\n",
       "    }\n",
       "\n",
       "    .dataframe tbody tr th {\n",
       "        vertical-align: top;\n",
       "    }\n",
       "\n",
       "    .dataframe thead th {\n",
       "        text-align: right;\n",
       "    }\n",
       "</style>\n",
       "<table border=\"1\" class=\"dataframe\">\n",
       "  <thead>\n",
       "    <tr style=\"text-align: right;\">\n",
       "      <th></th>\n",
       "      <th>Unnamed: 0</th>\n",
       "      <th>Year</th>\n",
       "      <th>Country</th>\n",
       "      <th>Sector</th>\n",
       "      <th>Expenditure(million USD)</th>\n",
       "      <th>GDP(%)</th>\n",
       "    </tr>\n",
       "  </thead>\n",
       "  <tbody>\n",
       "    <tr>\n",
       "      <th>0</th>\n",
       "      <td>0</td>\n",
       "      <td>2000</td>\n",
       "      <td>Australia</td>\n",
       "      <td>Total function</td>\n",
       "      <td>153122.633</td>\n",
       "      <td>37.36193</td>\n",
       "    </tr>\n",
       "    <tr>\n",
       "      <th>1</th>\n",
       "      <td>1</td>\n",
       "      <td>2000</td>\n",
       "      <td>Australia</td>\n",
       "      <td>Agriculture, forestry, fishing and hunting</td>\n",
       "      <td>2195.583</td>\n",
       "      <td>0.53572</td>\n",
       "    </tr>\n",
       "    <tr>\n",
       "      <th>2</th>\n",
       "      <td>2</td>\n",
       "      <td>2000</td>\n",
       "      <td>Australia</td>\n",
       "      <td>Mining, manufacturing and construction</td>\n",
       "      <td>905.018</td>\n",
       "      <td>0.22082</td>\n",
       "    </tr>\n",
       "    <tr>\n",
       "      <th>3</th>\n",
       "      <td>3</td>\n",
       "      <td>2000</td>\n",
       "      <td>Australia</td>\n",
       "      <td>Transport</td>\n",
       "      <td>11417.379</td>\n",
       "      <td>2.78584</td>\n",
       "    </tr>\n",
       "    <tr>\n",
       "      <th>4</th>\n",
       "      <td>4</td>\n",
       "      <td>2000</td>\n",
       "      <td>Australia</td>\n",
       "      <td>Fuel and energy</td>\n",
       "      <td>2251.241</td>\n",
       "      <td>0.54930</td>\n",
       "    </tr>\n",
       "    <tr>\n",
       "      <th>...</th>\n",
       "      <td>...</td>\n",
       "      <td>...</td>\n",
       "      <td>...</td>\n",
       "      <td>...</td>\n",
       "      <td>...</td>\n",
       "      <td>...</td>\n",
       "    </tr>\n",
       "    <tr>\n",
       "      <th>25728</th>\n",
       "      <td>25728</td>\n",
       "      <td>2021</td>\n",
       "      <td>United States of America</td>\n",
       "      <td>Social protection</td>\n",
       "      <td>2827585.060</td>\n",
       "      <td>12.07255</td>\n",
       "    </tr>\n",
       "    <tr>\n",
       "      <th>25729</th>\n",
       "      <td>25729</td>\n",
       "      <td>2021</td>\n",
       "      <td>United States of America</td>\n",
       "      <td>General public services</td>\n",
       "      <td>1291640.230</td>\n",
       "      <td>5.51474</td>\n",
       "    </tr>\n",
       "    <tr>\n",
       "      <th>25730</th>\n",
       "      <td>25730</td>\n",
       "      <td>2021</td>\n",
       "      <td>United States of America</td>\n",
       "      <td>Defence</td>\n",
       "      <td>759321.990</td>\n",
       "      <td>3.24197</td>\n",
       "    </tr>\n",
       "    <tr>\n",
       "      <th>25731</th>\n",
       "      <td>25731</td>\n",
       "      <td>2021</td>\n",
       "      <td>United States of America</td>\n",
       "      <td>Public order and safety</td>\n",
       "      <td>459973.190</td>\n",
       "      <td>1.96388</td>\n",
       "    </tr>\n",
       "    <tr>\n",
       "      <th>25732</th>\n",
       "      <td>25732</td>\n",
       "      <td>2021</td>\n",
       "      <td>United States of America</td>\n",
       "      <td>Recreation, culture and religion</td>\n",
       "      <td>62528.780</td>\n",
       "      <td>0.26697</td>\n",
       "    </tr>\n",
       "  </tbody>\n",
       "</table>\n",
       "<p>25173 rows × 6 columns</p>\n",
       "</div>"
      ],
      "text/plain": [
       "       Unnamed: 0  Year                   Country  \\\n",
       "0               0  2000                 Australia   \n",
       "1               1  2000                 Australia   \n",
       "2               2  2000                 Australia   \n",
       "3               3  2000                 Australia   \n",
       "4               4  2000                 Australia   \n",
       "...           ...   ...                       ...   \n",
       "25728       25728  2021  United States of America   \n",
       "25729       25729  2021  United States of America   \n",
       "25730       25730  2021  United States of America   \n",
       "25731       25731  2021  United States of America   \n",
       "25732       25732  2021  United States of America   \n",
       "\n",
       "                                           Sector  Expenditure(million USD)  \\\n",
       "0                                  Total function                153122.633   \n",
       "1      Agriculture, forestry, fishing and hunting                  2195.583   \n",
       "2          Mining, manufacturing and construction                   905.018   \n",
       "3                                       Transport                 11417.379   \n",
       "4                                 Fuel and energy                  2251.241   \n",
       "...                                           ...                       ...   \n",
       "25728                           Social protection               2827585.060   \n",
       "25729                     General public services               1291640.230   \n",
       "25730                                     Defence                759321.990   \n",
       "25731                     Public order and safety                459973.190   \n",
       "25732            Recreation, culture and religion                 62528.780   \n",
       "\n",
       "         GDP(%)  \n",
       "0      37.36193  \n",
       "1       0.53572  \n",
       "2       0.22082  \n",
       "3       2.78584  \n",
       "4       0.54930  \n",
       "...         ...  \n",
       "25728  12.07255  \n",
       "25729   5.51474  \n",
       "25730   3.24197  \n",
       "25731   1.96388  \n",
       "25732   0.26697  \n",
       "\n",
       "[25173 rows x 6 columns]"
      ]
     },
     "execution_count": 8,
     "metadata": {},
     "output_type": "execute_result"
    }
   ],
   "source": [
    "wgovt"
   ]
  },
  {
   "cell_type": "code",
   "execution_count": 15,
   "id": "743e0bff",
   "metadata": {},
   "outputs": [],
   "source": [
    "wgovt = wgovt.drop(['Unnamed: 0'], axis=1)"
   ]
  },
  {
   "cell_type": "code",
   "execution_count": 21,
   "id": "26d30feb",
   "metadata": {},
   "outputs": [
    {
     "data": {
      "text/plain": [
       "array([2000, 2001, 2002, 2003, 2004, 2005, 2006, 2007, 2008, 2009, 2010,\n",
       "       2011, 2012, 2013, 2014, 2015, 2016, 2017, 2018, 2019, 2020, 2021],\n",
       "      dtype=int64)"
      ]
     },
     "execution_count": 21,
     "metadata": {},
     "output_type": "execute_result"
    }
   ],
   "source": [
    "wgovt['Year'].unique()"
   ]
  },
  {
   "cell_type": "code",
   "execution_count": 23,
   "id": "9a3bc654",
   "metadata": {},
   "outputs": [
    {
     "data": {
      "text/plain": [
       "Switzerland, Liechtenstein    418\n",
       "Hungary                       418\n",
       "Germany                       418\n",
       "Lithuania                     418\n",
       "France                        418\n",
       "                             ... \n",
       "Nepal                          39\n",
       "Fiji                           29\n",
       "Kenya                          21\n",
       "Timor-Leste                    13\n",
       "Serbia and Montenegro          10\n",
       "Name: Country, Length: 96, dtype: int64"
      ]
     },
     "execution_count": 23,
     "metadata": {},
     "output_type": "execute_result"
    }
   ],
   "source": [
    "wgovt['Country'].value_counts()"
   ]
  },
  {
   "cell_type": "code",
   "execution_count": 30,
   "id": "e8279fbb",
   "metadata": {},
   "outputs": [
    {
     "data": {
      "text/html": [
       "<div>\n",
       "<style scoped>\n",
       "    .dataframe tbody tr th:only-of-type {\n",
       "        vertical-align: middle;\n",
       "    }\n",
       "\n",
       "    .dataframe tbody tr th {\n",
       "        vertical-align: top;\n",
       "    }\n",
       "\n",
       "    .dataframe thead th {\n",
       "        text-align: right;\n",
       "    }\n",
       "</style>\n",
       "<table border=\"1\" class=\"dataframe\">\n",
       "  <thead>\n",
       "    <tr style=\"text-align: right;\">\n",
       "      <th></th>\n",
       "      <th>Year</th>\n",
       "      <th>Country</th>\n",
       "      <th>Sector</th>\n",
       "      <th>Expenditure(million USD)</th>\n",
       "      <th>GDP(%)</th>\n",
       "    </tr>\n",
       "  </thead>\n",
       "  <tbody>\n",
       "    <tr>\n",
       "      <th>0</th>\n",
       "      <td>2000</td>\n",
       "      <td>Australia</td>\n",
       "      <td>Total function</td>\n",
       "      <td>153122.633</td>\n",
       "      <td>37.36193</td>\n",
       "    </tr>\n",
       "    <tr>\n",
       "      <th>1</th>\n",
       "      <td>2000</td>\n",
       "      <td>Australia</td>\n",
       "      <td>Agriculture, forestry, fishing and hunting</td>\n",
       "      <td>2195.583</td>\n",
       "      <td>0.53572</td>\n",
       "    </tr>\n",
       "    <tr>\n",
       "      <th>2</th>\n",
       "      <td>2000</td>\n",
       "      <td>Australia</td>\n",
       "      <td>Mining, manufacturing and construction</td>\n",
       "      <td>905.018</td>\n",
       "      <td>0.22082</td>\n",
       "    </tr>\n",
       "    <tr>\n",
       "      <th>3</th>\n",
       "      <td>2000</td>\n",
       "      <td>Australia</td>\n",
       "      <td>Transport</td>\n",
       "      <td>11417.379</td>\n",
       "      <td>2.78584</td>\n",
       "    </tr>\n",
       "    <tr>\n",
       "      <th>4</th>\n",
       "      <td>2000</td>\n",
       "      <td>Australia</td>\n",
       "      <td>Fuel and energy</td>\n",
       "      <td>2251.241</td>\n",
       "      <td>0.54930</td>\n",
       "    </tr>\n",
       "    <tr>\n",
       "      <th>...</th>\n",
       "      <td>...</td>\n",
       "      <td>...</td>\n",
       "      <td>...</td>\n",
       "      <td>...</td>\n",
       "      <td>...</td>\n",
       "    </tr>\n",
       "    <tr>\n",
       "      <th>24686</th>\n",
       "      <td>2021</td>\n",
       "      <td>Australia</td>\n",
       "      <td>Recreation, culture and religion</td>\n",
       "      <td>15996.553</td>\n",
       "      <td>0.92224</td>\n",
       "    </tr>\n",
       "    <tr>\n",
       "      <th>24687</th>\n",
       "      <td>2021</td>\n",
       "      <td>Australia</td>\n",
       "      <td>General economic, commercial and labour affairs</td>\n",
       "      <td>20410.535</td>\n",
       "      <td>1.17672</td>\n",
       "    </tr>\n",
       "    <tr>\n",
       "      <th>24688</th>\n",
       "      <td>2021</td>\n",
       "      <td>Australia</td>\n",
       "      <td>Other industries</td>\n",
       "      <td>1634.586</td>\n",
       "      <td>0.09424</td>\n",
       "    </tr>\n",
       "    <tr>\n",
       "      <th>24689</th>\n",
       "      <td>2021</td>\n",
       "      <td>Australia</td>\n",
       "      <td>RandD Economic affairs</td>\n",
       "      <td>509.306</td>\n",
       "      <td>0.02936</td>\n",
       "    </tr>\n",
       "    <tr>\n",
       "      <th>24690</th>\n",
       "      <td>2021</td>\n",
       "      <td>Australia</td>\n",
       "      <td>Economic affairs n.e.c.</td>\n",
       "      <td>4388.442</td>\n",
       "      <td>0.25300</td>\n",
       "    </tr>\n",
       "  </tbody>\n",
       "</table>\n",
       "<p>414 rows × 5 columns</p>\n",
       "</div>"
      ],
      "text/plain": [
       "       Year    Country                                           Sector  \\\n",
       "0      2000  Australia                                   Total function   \n",
       "1      2000  Australia       Agriculture, forestry, fishing and hunting   \n",
       "2      2000  Australia           Mining, manufacturing and construction   \n",
       "3      2000  Australia                                        Transport   \n",
       "4      2000  Australia                                  Fuel and energy   \n",
       "...     ...        ...                                              ...   \n",
       "24686  2021  Australia                 Recreation, culture and religion   \n",
       "24687  2021  Australia  General economic, commercial and labour affairs   \n",
       "24688  2021  Australia                                 Other industries   \n",
       "24689  2021  Australia                           RandD Economic affairs   \n",
       "24690  2021  Australia                          Economic affairs n.e.c.   \n",
       "\n",
       "       Expenditure(million USD)    GDP(%)  \n",
       "0                    153122.633  37.36193  \n",
       "1                      2195.583   0.53572  \n",
       "2                       905.018   0.22082  \n",
       "3                     11417.379   2.78584  \n",
       "4                      2251.241   0.54930  \n",
       "...                         ...       ...  \n",
       "24686                 15996.553   0.92224  \n",
       "24687                 20410.535   1.17672  \n",
       "24688                  1634.586   0.09424  \n",
       "24689                   509.306   0.02936  \n",
       "24690                  4388.442   0.25300  \n",
       "\n",
       "[414 rows x 5 columns]"
      ]
     },
     "execution_count": 30,
     "metadata": {},
     "output_type": "execute_result"
    }
   ],
   "source": [
    "wgovt[wgovt['Country'] == 'Australia']"
   ]
  },
  {
   "cell_type": "code",
   "execution_count": 31,
   "id": "438b3793",
   "metadata": {},
   "outputs": [
    {
     "data": {
      "text/plain": [
       "['compute', 'display', 'io', 'mode', 'plotting', 'styler']"
      ]
     },
     "execution_count": 31,
     "metadata": {},
     "output_type": "execute_result"
    }
   ],
   "source": [
    "dir(pd.options)"
   ]
  },
  {
   "cell_type": "code",
   "execution_count": 32,
   "id": "052955a5",
   "metadata": {},
   "outputs": [
    {
     "name": "stdout",
     "output_type": "stream",
     "text": [
      "<pandas._config.config.DictWrapper object at 0x000002BD294508B0>\n"
     ]
    }
   ],
   "source": [
    "import pandas as pd\n",
    "\n",
    "print(pd.options.display)\n"
   ]
  },
  {
   "cell_type": "code",
   "execution_count": 34,
   "id": "68b21632",
   "metadata": {},
   "outputs": [],
   "source": [
    "pd.set_option('display.max_rows', 415)\n"
   ]
  },
  {
   "cell_type": "code",
   "execution_count": 36,
   "id": "0253189d",
   "metadata": {
    "scrolled": false
   },
   "outputs": [
    {
     "data": {
      "text/html": [
       "<div>\n",
       "<style scoped>\n",
       "    .dataframe tbody tr th:only-of-type {\n",
       "        vertical-align: middle;\n",
       "    }\n",
       "\n",
       "    .dataframe tbody tr th {\n",
       "        vertical-align: top;\n",
       "    }\n",
       "\n",
       "    .dataframe thead th {\n",
       "        text-align: right;\n",
       "    }\n",
       "</style>\n",
       "<table border=\"1\" class=\"dataframe\">\n",
       "  <thead>\n",
       "    <tr style=\"text-align: right;\">\n",
       "      <th></th>\n",
       "      <th>Year</th>\n",
       "      <th>Country</th>\n",
       "      <th>Sector</th>\n",
       "      <th>Expenditure(million USD)</th>\n",
       "      <th>GDP(%)</th>\n",
       "    </tr>\n",
       "  </thead>\n",
       "  <tbody>\n",
       "    <tr>\n",
       "      <th>3</th>\n",
       "      <td>2000</td>\n",
       "      <td>Australia</td>\n",
       "      <td>Transport</td>\n",
       "      <td>11417.379</td>\n",
       "      <td>2.78584</td>\n",
       "    </tr>\n",
       "    <tr>\n",
       "      <th>788</th>\n",
       "      <td>2001</td>\n",
       "      <td>Australia</td>\n",
       "      <td>Transport</td>\n",
       "      <td>10073.224</td>\n",
       "      <td>2.57607</td>\n",
       "    </tr>\n",
       "    <tr>\n",
       "      <th>1687</th>\n",
       "      <td>2002</td>\n",
       "      <td>Australia</td>\n",
       "      <td>Transport</td>\n",
       "      <td>11335.122</td>\n",
       "      <td>2.59912</td>\n",
       "    </tr>\n",
       "    <tr>\n",
       "      <th>2710</th>\n",
       "      <td>2003</td>\n",
       "      <td>Australia</td>\n",
       "      <td>Transport</td>\n",
       "      <td>15157.134</td>\n",
       "      <td>2.70617</td>\n",
       "    </tr>\n",
       "    <tr>\n",
       "      <th>3729</th>\n",
       "      <td>2004</td>\n",
       "      <td>Australia</td>\n",
       "      <td>Transport</td>\n",
       "      <td>16958.233</td>\n",
       "      <td>2.49306</td>\n",
       "    </tr>\n",
       "    <tr>\n",
       "      <th>4763</th>\n",
       "      <td>2005</td>\n",
       "      <td>Australia</td>\n",
       "      <td>Transport</td>\n",
       "      <td>19452.095</td>\n",
       "      <td>2.54999</td>\n",
       "    </tr>\n",
       "    <tr>\n",
       "      <th>5849</th>\n",
       "      <td>2006</td>\n",
       "      <td>Australia</td>\n",
       "      <td>Transport</td>\n",
       "      <td>21707.512</td>\n",
       "      <td>2.64885</td>\n",
       "    </tr>\n",
       "    <tr>\n",
       "      <th>6933</th>\n",
       "      <td>2007</td>\n",
       "      <td>Australia</td>\n",
       "      <td>Transport</td>\n",
       "      <td>26825.988</td>\n",
       "      <td>2.71882</td>\n",
       "    </tr>\n",
       "    <tr>\n",
       "      <th>7984</th>\n",
       "      <td>2008</td>\n",
       "      <td>Australia</td>\n",
       "      <td>Transport</td>\n",
       "      <td>29954.411</td>\n",
       "      <td>2.83137</td>\n",
       "    </tr>\n",
       "    <tr>\n",
       "      <th>9088</th>\n",
       "      <td>2009</td>\n",
       "      <td>Australia</td>\n",
       "      <td>Transport</td>\n",
       "      <td>28736.017</td>\n",
       "      <td>2.82550</td>\n",
       "    </tr>\n",
       "    <tr>\n",
       "      <th>10231</th>\n",
       "      <td>2010</td>\n",
       "      <td>Australia</td>\n",
       "      <td>Transport</td>\n",
       "      <td>33672.137</td>\n",
       "      <td>2.58798</td>\n",
       "    </tr>\n",
       "    <tr>\n",
       "      <th>11408</th>\n",
       "      <td>2011</td>\n",
       "      <td>Australia</td>\n",
       "      <td>Transport</td>\n",
       "      <td>42963.982</td>\n",
       "      <td>2.77647</td>\n",
       "    </tr>\n",
       "    <tr>\n",
       "      <th>12618</th>\n",
       "      <td>2012</td>\n",
       "      <td>Australia</td>\n",
       "      <td>Transport</td>\n",
       "      <td>45968.060</td>\n",
       "      <td>2.88943</td>\n",
       "    </tr>\n",
       "    <tr>\n",
       "      <th>13902</th>\n",
       "      <td>2013</td>\n",
       "      <td>Australia</td>\n",
       "      <td>Transport</td>\n",
       "      <td>43245.932</td>\n",
       "      <td>2.80221</td>\n",
       "    </tr>\n",
       "    <tr>\n",
       "      <th>15179</th>\n",
       "      <td>2014</td>\n",
       "      <td>Australia</td>\n",
       "      <td>Transport</td>\n",
       "      <td>41110.068</td>\n",
       "      <td>2.80945</td>\n",
       "    </tr>\n",
       "    <tr>\n",
       "      <th>16549</th>\n",
       "      <td>2015</td>\n",
       "      <td>Australia</td>\n",
       "      <td>Transport</td>\n",
       "      <td>34344.027</td>\n",
       "      <td>2.75801</td>\n",
       "    </tr>\n",
       "    <tr>\n",
       "      <th>17928</th>\n",
       "      <td>2016</td>\n",
       "      <td>Australia</td>\n",
       "      <td>Transport</td>\n",
       "      <td>38668.941</td>\n",
       "      <td>2.95754</td>\n",
       "    </tr>\n",
       "    <tr>\n",
       "      <th>19307</th>\n",
       "      <td>2017</td>\n",
       "      <td>Australia</td>\n",
       "      <td>Transport</td>\n",
       "      <td>44489.474</td>\n",
       "      <td>3.15027</td>\n",
       "    </tr>\n",
       "    <tr>\n",
       "      <th>20655</th>\n",
       "      <td>2018</td>\n",
       "      <td>Australia</td>\n",
       "      <td>Transport</td>\n",
       "      <td>46033.653</td>\n",
       "      <td>3.16509</td>\n",
       "    </tr>\n",
       "    <tr>\n",
       "      <th>22020</th>\n",
       "      <td>2019</td>\n",
       "      <td>Australia</td>\n",
       "      <td>Transport</td>\n",
       "      <td>44262.572</td>\n",
       "      <td>3.21662</td>\n",
       "    </tr>\n",
       "    <tr>\n",
       "      <th>23352</th>\n",
       "      <td>2020</td>\n",
       "      <td>Australia</td>\n",
       "      <td>Transport</td>\n",
       "      <td>49158.166</td>\n",
       "      <td>3.43349</td>\n",
       "    </tr>\n",
       "    <tr>\n",
       "      <th>24676</th>\n",
       "      <td>2021</td>\n",
       "      <td>Australia</td>\n",
       "      <td>Transport</td>\n",
       "      <td>58754.188</td>\n",
       "      <td>3.38732</td>\n",
       "    </tr>\n",
       "  </tbody>\n",
       "</table>\n",
       "</div>"
      ],
      "text/plain": [
       "       Year    Country     Sector  Expenditure(million USD)   GDP(%)\n",
       "3      2000  Australia  Transport                 11417.379  2.78584\n",
       "788    2001  Australia  Transport                 10073.224  2.57607\n",
       "1687   2002  Australia  Transport                 11335.122  2.59912\n",
       "2710   2003  Australia  Transport                 15157.134  2.70617\n",
       "3729   2004  Australia  Transport                 16958.233  2.49306\n",
       "4763   2005  Australia  Transport                 19452.095  2.54999\n",
       "5849   2006  Australia  Transport                 21707.512  2.64885\n",
       "6933   2007  Australia  Transport                 26825.988  2.71882\n",
       "7984   2008  Australia  Transport                 29954.411  2.83137\n",
       "9088   2009  Australia  Transport                 28736.017  2.82550\n",
       "10231  2010  Australia  Transport                 33672.137  2.58798\n",
       "11408  2011  Australia  Transport                 42963.982  2.77647\n",
       "12618  2012  Australia  Transport                 45968.060  2.88943\n",
       "13902  2013  Australia  Transport                 43245.932  2.80221\n",
       "15179  2014  Australia  Transport                 41110.068  2.80945\n",
       "16549  2015  Australia  Transport                 34344.027  2.75801\n",
       "17928  2016  Australia  Transport                 38668.941  2.95754\n",
       "19307  2017  Australia  Transport                 44489.474  3.15027\n",
       "20655  2018  Australia  Transport                 46033.653  3.16509\n",
       "22020  2019  Australia  Transport                 44262.572  3.21662\n",
       "23352  2020  Australia  Transport                 49158.166  3.43349\n",
       "24676  2021  Australia  Transport                 58754.188  3.38732"
      ]
     },
     "execution_count": 36,
     "metadata": {},
     "output_type": "execute_result"
    }
   ],
   "source": [
    "wgovt[(wgovt['Country'] == 'Australia') & (wgovt['Sector'] == 'Transport')]"
   ]
  },
  {
   "cell_type": "code",
   "execution_count": 42,
   "id": "7eb2cdab",
   "metadata": {},
   "outputs": [
    {
     "data": {
      "image/png": "[encoded data removed]",
      "text/plain": [
       "<Figure size 1000x500 with 2 Axes>"
      ]
     },
     "metadata": {},
     "output_type": "display_data"
    }
   ],
   "source": [
    "plt.figure(figsize=(10,5))\n",
    "\n",
    "plt.subplot(1,2,1)\n",
    "sns.lineplot(x='Year', y='Expenditure(million USD)', data=wgovt[(wgovt['Country'] == 'Australia') & (wgovt['Sector'] == 'Transport')])\n",
    "plt.title('Expenditure over Years')\n",
    "\n",
    "plt.subplot(1,2,2)\n",
    "sns.lineplot(x='Year', y='GDP(%)', data=wgovt[(wgovt['Country'] == 'Australia') & (wgovt['Sector'] == 'Transport')])\n",
    "plt.title('Percentage Expenditure(of GDP) over Years')\n",
    "\n",
    "plt.suptitle('Expenditure of Australia on Transport over Years')\n",
    "\n",
    "plt.tight_layout()\n",
    "plt.show()"
   ]
  },
  {
   "cell_type": "code",
   "execution_count": 43,
   "id": "4b43ec85",
   "metadata": {},
   "outputs": [
    {
     "data": {
      "text/html": [
       "<div>\n",
       "<style scoped>\n",
       "    .dataframe tbody tr th:only-of-type {\n",
       "        vertical-align: middle;\n",
       "    }\n",
       "\n",
       "    .dataframe tbody tr th {\n",
       "        vertical-align: top;\n",
       "    }\n",
       "\n",
       "    .dataframe thead th {\n",
       "        text-align: right;\n",
       "    }\n",
       "</style>\n",
       "<table border=\"1\" class=\"dataframe\">\n",
       "  <thead>\n",
       "    <tr style=\"text-align: right;\">\n",
       "      <th></th>\n",
       "      <th>Year</th>\n",
       "      <th>Country</th>\n",
       "      <th>Sector</th>\n",
       "      <th>Expenditure(million USD)</th>\n",
       "      <th>GDP(%)</th>\n",
       "    </tr>\n",
       "  </thead>\n",
       "  <tbody>\n",
       "    <tr>\n",
       "      <th>24636</th>\n",
       "      <td>2021</td>\n",
       "      <td>Albania</td>\n",
       "      <td>Total function</td>\n",
       "      <td>5.737172e+03</td>\n",
       "      <td>31.41927</td>\n",
       "    </tr>\n",
       "    <tr>\n",
       "      <th>24655</th>\n",
       "      <td>2021</td>\n",
       "      <td>Armenia</td>\n",
       "      <td>Total function</td>\n",
       "      <td>4.063226e+03</td>\n",
       "      <td>29.31320</td>\n",
       "    </tr>\n",
       "    <tr>\n",
       "      <th>24673</th>\n",
       "      <td>2021</td>\n",
       "      <td>Australia</td>\n",
       "      <td>Total function</td>\n",
       "      <td>7.196338e+05</td>\n",
       "      <td>41.48865</td>\n",
       "    </tr>\n",
       "    <tr>\n",
       "      <th>24691</th>\n",
       "      <td>2021</td>\n",
       "      <td>Austria</td>\n",
       "      <td>Total function</td>\n",
       "      <td>2.687915e+05</td>\n",
       "      <td>55.95528</td>\n",
       "    </tr>\n",
       "    <tr>\n",
       "      <th>24710</th>\n",
       "      <td>2021</td>\n",
       "      <td>Azerbaijan</td>\n",
       "      <td>Total function</td>\n",
       "      <td>1.748737e+04</td>\n",
       "      <td>32.01514</td>\n",
       "    </tr>\n",
       "    <tr>\n",
       "      <th>24729</th>\n",
       "      <td>2021</td>\n",
       "      <td>Belgium</td>\n",
       "      <td>Total function</td>\n",
       "      <td>3.296801e+05</td>\n",
       "      <td>55.49197</td>\n",
       "    </tr>\n",
       "    <tr>\n",
       "      <th>24748</th>\n",
       "      <td>2021</td>\n",
       "      <td>Bulgaria</td>\n",
       "      <td>Total function</td>\n",
       "      <td>3.414359e+04</td>\n",
       "      <td>40.61929</td>\n",
       "    </tr>\n",
       "    <tr>\n",
       "      <th>24767</th>\n",
       "      <td>2021</td>\n",
       "      <td>Canada</td>\n",
       "      <td>Total function</td>\n",
       "      <td>8.317563e+05</td>\n",
       "      <td>41.83177</td>\n",
       "    </tr>\n",
       "    <tr>\n",
       "      <th>24783</th>\n",
       "      <td>2021</td>\n",
       "      <td>Chile</td>\n",
       "      <td>Total function</td>\n",
       "      <td>1.081190e+05</td>\n",
       "      <td>34.10066</td>\n",
       "    </tr>\n",
       "    <tr>\n",
       "      <th>24793</th>\n",
       "      <td>2021</td>\n",
       "      <td>China, Macao SAR</td>\n",
       "      <td>Total function</td>\n",
       "      <td>1.158519e+04</td>\n",
       "      <td>38.73990</td>\n",
       "    </tr>\n",
       "    <tr>\n",
       "      <th>24803</th>\n",
       "      <td>2021</td>\n",
       "      <td>Colombia</td>\n",
       "      <td>Total function</td>\n",
       "      <td>1.081326e+05</td>\n",
       "      <td>34.38630</td>\n",
       "    </tr>\n",
       "    <tr>\n",
       "      <th>24813</th>\n",
       "      <td>2021</td>\n",
       "      <td>Croatia</td>\n",
       "      <td>Total function</td>\n",
       "      <td>4.442324e+03</td>\n",
       "      <td>6.44234</td>\n",
       "    </tr>\n",
       "    <tr>\n",
       "      <th>24832</th>\n",
       "      <td>2021</td>\n",
       "      <td>Cyprus</td>\n",
       "      <td>Total function</td>\n",
       "      <td>1.223024e+04</td>\n",
       "      <td>43.05193</td>\n",
       "    </tr>\n",
       "    <tr>\n",
       "      <th>24851</th>\n",
       "      <td>2021</td>\n",
       "      <td>Czechia</td>\n",
       "      <td>Total function</td>\n",
       "      <td>1.310715e+05</td>\n",
       "      <td>46.51590</td>\n",
       "    </tr>\n",
       "    <tr>\n",
       "      <th>24870</th>\n",
       "      <td>2021</td>\n",
       "      <td>Denmark</td>\n",
       "      <td>Total function</td>\n",
       "      <td>2.023531e+05</td>\n",
       "      <td>50.80378</td>\n",
       "    </tr>\n",
       "    <tr>\n",
       "      <th>24889</th>\n",
       "      <td>2021</td>\n",
       "      <td>El Salvador</td>\n",
       "      <td>Total function</td>\n",
       "      <td>9.482200e+03</td>\n",
       "      <td>32.99655</td>\n",
       "    </tr>\n",
       "    <tr>\n",
       "      <th>24908</th>\n",
       "      <td>2021</td>\n",
       "      <td>Estonia</td>\n",
       "      <td>Total function</td>\n",
       "      <td>1.542364e+04</td>\n",
       "      <td>41.47125</td>\n",
       "    </tr>\n",
       "    <tr>\n",
       "      <th>24927</th>\n",
       "      <td>2021</td>\n",
       "      <td>Finland</td>\n",
       "      <td>Total function</td>\n",
       "      <td>1.654985e+05</td>\n",
       "      <td>55.66681</td>\n",
       "    </tr>\n",
       "    <tr>\n",
       "      <th>24946</th>\n",
       "      <td>2021</td>\n",
       "      <td>France</td>\n",
       "      <td>Total function</td>\n",
       "      <td>1.746522e+06</td>\n",
       "      <td>58.87531</td>\n",
       "    </tr>\n",
       "    <tr>\n",
       "      <th>24965</th>\n",
       "      <td>2021</td>\n",
       "      <td>Georgia</td>\n",
       "      <td>Total function</td>\n",
       "      <td>6.210162e+03</td>\n",
       "      <td>33.21578</td>\n",
       "    </tr>\n",
       "    <tr>\n",
       "      <th>24983</th>\n",
       "      <td>2021</td>\n",
       "      <td>Germany</td>\n",
       "      <td>Total function</td>\n",
       "      <td>2.183337e+06</td>\n",
       "      <td>51.25284</td>\n",
       "    </tr>\n",
       "    <tr>\n",
       "      <th>25002</th>\n",
       "      <td>2021</td>\n",
       "      <td>Greece</td>\n",
       "      <td>Total function</td>\n",
       "      <td>1.234402e+05</td>\n",
       "      <td>57.44776</td>\n",
       "    </tr>\n",
       "    <tr>\n",
       "      <th>25021</th>\n",
       "      <td>2021</td>\n",
       "      <td>Guatemala</td>\n",
       "      <td>Total function</td>\n",
       "      <td>1.446423e+04</td>\n",
       "      <td>16.82164</td>\n",
       "    </tr>\n",
       "    <tr>\n",
       "      <th>25040</th>\n",
       "      <td>2021</td>\n",
       "      <td>Hungary</td>\n",
       "      <td>Total function</td>\n",
       "      <td>8.804785e+04</td>\n",
       "      <td>48.41837</td>\n",
       "    </tr>\n",
       "    <tr>\n",
       "      <th>25059</th>\n",
       "      <td>2021</td>\n",
       "      <td>Iceland</td>\n",
       "      <td>Total function</td>\n",
       "      <td>1.260506e+04</td>\n",
       "      <td>49.23387</td>\n",
       "    </tr>\n",
       "    <tr>\n",
       "      <th>25078</th>\n",
       "      <td>2021</td>\n",
       "      <td>Indonesia</td>\n",
       "      <td>Total function</td>\n",
       "      <td>2.250467e+05</td>\n",
       "      <td>18.97378</td>\n",
       "    </tr>\n",
       "    <tr>\n",
       "      <th>25088</th>\n",
       "      <td>2021</td>\n",
       "      <td>Ireland</td>\n",
       "      <td>Total function</td>\n",
       "      <td>1.251508e+05</td>\n",
       "      <td>24.82251</td>\n",
       "    </tr>\n",
       "    <tr>\n",
       "      <th>25107</th>\n",
       "      <td>2021</td>\n",
       "      <td>Israel</td>\n",
       "      <td>Total function</td>\n",
       "      <td>1.995505e+05</td>\n",
       "      <td>41.43565</td>\n",
       "    </tr>\n",
       "    <tr>\n",
       "      <th>25123</th>\n",
       "      <td>2021</td>\n",
       "      <td>Italy</td>\n",
       "      <td>Total function</td>\n",
       "      <td>1.166379e+06</td>\n",
       "      <td>55.33890</td>\n",
       "    </tr>\n",
       "    <tr>\n",
       "      <th>25142</th>\n",
       "      <td>2021</td>\n",
       "      <td>Japan</td>\n",
       "      <td>Total function</td>\n",
       "      <td>2.225634e+06</td>\n",
       "      <td>45.04532</td>\n",
       "    </tr>\n",
       "    <tr>\n",
       "      <th>25161</th>\n",
       "      <td>2021</td>\n",
       "      <td>Kiribati</td>\n",
       "      <td>Total function</td>\n",
       "      <td>2.501040e+02</td>\n",
       "      <td>109.95777</td>\n",
       "    </tr>\n",
       "    <tr>\n",
       "      <th>25171</th>\n",
       "      <td>2021</td>\n",
       "      <td>Kyrgyzstan</td>\n",
       "      <td>Total function</td>\n",
       "      <td>2.896203e+03</td>\n",
       "      <td>33.13475</td>\n",
       "    </tr>\n",
       "    <tr>\n",
       "      <th>25190</th>\n",
       "      <td>2021</td>\n",
       "      <td>Latvia</td>\n",
       "      <td>Total function</td>\n",
       "      <td>1.752135e+04</td>\n",
       "      <td>43.96440</td>\n",
       "    </tr>\n",
       "    <tr>\n",
       "      <th>25209</th>\n",
       "      <td>2021</td>\n",
       "      <td>Lithuania</td>\n",
       "      <td>Total function</td>\n",
       "      <td>2.491698e+04</td>\n",
       "      <td>37.50001</td>\n",
       "    </tr>\n",
       "    <tr>\n",
       "      <th>25228</th>\n",
       "      <td>2021</td>\n",
       "      <td>Luxembourg</td>\n",
       "      <td>Total function</td>\n",
       "      <td>3.667228e+04</td>\n",
       "      <td>42.88843</td>\n",
       "    </tr>\n",
       "    <tr>\n",
       "      <th>25247</th>\n",
       "      <td>2021</td>\n",
       "      <td>Maldives</td>\n",
       "      <td>Total function</td>\n",
       "      <td>2.114220e+03</td>\n",
       "      <td>39.11183</td>\n",
       "    </tr>\n",
       "    <tr>\n",
       "      <th>25257</th>\n",
       "      <td>2021</td>\n",
       "      <td>Malta</td>\n",
       "      <td>Total function</td>\n",
       "      <td>7.726015e+03</td>\n",
       "      <td>43.59895</td>\n",
       "    </tr>\n",
       "    <tr>\n",
       "      <th>25276</th>\n",
       "      <td>2021</td>\n",
       "      <td>Mauritius</td>\n",
       "      <td>Total function</td>\n",
       "      <td>3.976793e+03</td>\n",
       "      <td>34.50514</td>\n",
       "    </tr>\n",
       "    <tr>\n",
       "      <th>25295</th>\n",
       "      <td>2021</td>\n",
       "      <td>Moldova, Republic of</td>\n",
       "      <td>Total function</td>\n",
       "      <td>4.638650e+03</td>\n",
       "      <td>33.90802</td>\n",
       "    </tr>\n",
       "    <tr>\n",
       "      <th>25314</th>\n",
       "      <td>2021</td>\n",
       "      <td>Mongolia</td>\n",
       "      <td>Total function</td>\n",
       "      <td>4.866378e+03</td>\n",
       "      <td>32.23189</td>\n",
       "    </tr>\n",
       "    <tr>\n",
       "      <th>25323</th>\n",
       "      <td>2021</td>\n",
       "      <td>Nepal</td>\n",
       "      <td>Total function</td>\n",
       "      <td>1.045524e+04</td>\n",
       "      <td>28.87615</td>\n",
       "    </tr>\n",
       "    <tr>\n",
       "      <th>25342</th>\n",
       "      <td>2021</td>\n",
       "      <td>Netherlands (Kingdom of the)</td>\n",
       "      <td>Total function</td>\n",
       "      <td>4.719997e+05</td>\n",
       "      <td>46.60130</td>\n",
       "    </tr>\n",
       "    <tr>\n",
       "      <th>25361</th>\n",
       "      <td>2021</td>\n",
       "      <td>New Zealand</td>\n",
       "      <td>Total function</td>\n",
       "      <td>9.601641e+04</td>\n",
       "      <td>38.33736</td>\n",
       "    </tr>\n",
       "    <tr>\n",
       "      <th>25371</th>\n",
       "      <td>2021</td>\n",
       "      <td>Norway</td>\n",
       "      <td>Total function</td>\n",
       "      <td>2.367774e+05</td>\n",
       "      <td>49.10613</td>\n",
       "    </tr>\n",
       "    <tr>\n",
       "      <th>25390</th>\n",
       "      <td>2021</td>\n",
       "      <td>Philippines</td>\n",
       "      <td>Total function</td>\n",
       "      <td>9.148385e+04</td>\n",
       "      <td>23.21416</td>\n",
       "    </tr>\n",
       "    <tr>\n",
       "      <th>25400</th>\n",
       "      <td>2021</td>\n",
       "      <td>Poland</td>\n",
       "      <td>Total function</td>\n",
       "      <td>3.003900e+05</td>\n",
       "      <td>44.21128</td>\n",
       "    </tr>\n",
       "    <tr>\n",
       "      <th>25419</th>\n",
       "      <td>2021</td>\n",
       "      <td>Portugal</td>\n",
       "      <td>Total function</td>\n",
       "      <td>1.212746e+05</td>\n",
       "      <td>47.80930</td>\n",
       "    </tr>\n",
       "    <tr>\n",
       "      <th>25437</th>\n",
       "      <td>2021</td>\n",
       "      <td>Romania</td>\n",
       "      <td>Total function</td>\n",
       "      <td>1.135769e+05</td>\n",
       "      <td>39.97971</td>\n",
       "    </tr>\n",
       "    <tr>\n",
       "      <th>25456</th>\n",
       "      <td>2021</td>\n",
       "      <td>Russian Federation</td>\n",
       "      <td>Total function</td>\n",
       "      <td>6.477011e+05</td>\n",
       "      <td>36.41262</td>\n",
       "    </tr>\n",
       "    <tr>\n",
       "      <th>25457</th>\n",
       "      <td>2021</td>\n",
       "      <td>Samoa</td>\n",
       "      <td>Total function</td>\n",
       "      <td>2.947710e+02</td>\n",
       "      <td>34.38516</td>\n",
       "    </tr>\n",
       "    <tr>\n",
       "      <th>25467</th>\n",
       "      <td>2021</td>\n",
       "      <td>San Marino</td>\n",
       "      <td>Total function</td>\n",
       "      <td>8.112180e+02</td>\n",
       "      <td>47.67395</td>\n",
       "    </tr>\n",
       "    <tr>\n",
       "      <th>25506</th>\n",
       "      <td>2021</td>\n",
       "      <td>Singapore</td>\n",
       "      <td>Total function</td>\n",
       "      <td>7.719411e+04</td>\n",
       "      <td>19.44476</td>\n",
       "    </tr>\n",
       "    <tr>\n",
       "      <th>25525</th>\n",
       "      <td>2021</td>\n",
       "      <td>Slovakia</td>\n",
       "      <td>Total function</td>\n",
       "      <td>5.399963e+04</td>\n",
       "      <td>46.34083</td>\n",
       "    </tr>\n",
       "    <tr>\n",
       "      <th>25544</th>\n",
       "      <td>2021</td>\n",
       "      <td>Slovenia</td>\n",
       "      <td>Total function</td>\n",
       "      <td>3.043790e+04</td>\n",
       "      <td>49.29328</td>\n",
       "    </tr>\n",
       "    <tr>\n",
       "      <th>25563</th>\n",
       "      <td>2021</td>\n",
       "      <td>South Africa</td>\n",
       "      <td>Total function</td>\n",
       "      <td>1.682647e+05</td>\n",
       "      <td>40.15714</td>\n",
       "    </tr>\n",
       "    <tr>\n",
       "      <th>25582</th>\n",
       "      <td>2021</td>\n",
       "      <td>Spain</td>\n",
       "      <td>Total function</td>\n",
       "      <td>7.224935e+05</td>\n",
       "      <td>50.61673</td>\n",
       "    </tr>\n",
       "    <tr>\n",
       "      <th>25601</th>\n",
       "      <td>2021</td>\n",
       "      <td>Sri Lanka</td>\n",
       "      <td>Total function</td>\n",
       "      <td>1.778512e+04</td>\n",
       "      <td>20.84795</td>\n",
       "    </tr>\n",
       "    <tr>\n",
       "      <th>25610</th>\n",
       "      <td>2021</td>\n",
       "      <td>Sweden</td>\n",
       "      <td>Total function</td>\n",
       "      <td>3.147669e+05</td>\n",
       "      <td>49.51782</td>\n",
       "    </tr>\n",
       "    <tr>\n",
       "      <th>25629</th>\n",
       "      <td>2021</td>\n",
       "      <td>Switzerland, Liechtenstein</td>\n",
       "      <td>Total function</td>\n",
       "      <td>2.919684e+05</td>\n",
       "      <td>35.62872</td>\n",
       "    </tr>\n",
       "    <tr>\n",
       "      <th>25648</th>\n",
       "      <td>2021</td>\n",
       "      <td>Thailand</td>\n",
       "      <td>Total function</td>\n",
       "      <td>1.339834e+05</td>\n",
       "      <td>26.47989</td>\n",
       "    </tr>\n",
       "    <tr>\n",
       "      <th>25666</th>\n",
       "      <td>2021</td>\n",
       "      <td>Türkiye</td>\n",
       "      <td>Total function</td>\n",
       "      <td>2.645200e+05</td>\n",
       "      <td>32.29657</td>\n",
       "    </tr>\n",
       "    <tr>\n",
       "      <th>25685</th>\n",
       "      <td>2021</td>\n",
       "      <td>Ukraine</td>\n",
       "      <td>Total function</td>\n",
       "      <td>8.046671e+04</td>\n",
       "      <td>40.21614</td>\n",
       "    </tr>\n",
       "    <tr>\n",
       "      <th>25704</th>\n",
       "      <td>2021</td>\n",
       "      <td>United Kingdom</td>\n",
       "      <td>Total function</td>\n",
       "      <td>1.511473e+06</td>\n",
       "      <td>48.26862</td>\n",
       "    </tr>\n",
       "    <tr>\n",
       "      <th>25723</th>\n",
       "      <td>2021</td>\n",
       "      <td>United States of America</td>\n",
       "      <td>Total function</td>\n",
       "      <td>1.047608e+07</td>\n",
       "      <td>44.72828</td>\n",
       "    </tr>\n",
       "  </tbody>\n",
       "</table>\n",
       "</div>"
      ],
      "text/plain": [
       "       Year                       Country          Sector  \\\n",
       "24636  2021                       Albania  Total function   \n",
       "24655  2021                       Armenia  Total function   \n",
       "24673  2021                     Australia  Total function   \n",
       "24691  2021                       Austria  Total function   \n",
       "24710  2021                    Azerbaijan  Total function   \n",
       "24729  2021                       Belgium  Total function   \n",
       "24748  2021                      Bulgaria  Total function   \n",
       "24767  2021                        Canada  Total function   \n",
       "24783  2021                         Chile  Total function   \n",
       "24793  2021              China, Macao SAR  Total function   \n",
       "24803  2021                      Colombia  Total function   \n",
       "24813  2021                       Croatia  Total function   \n",
       "24832  2021                        Cyprus  Total function   \n",
       "24851  2021                       Czechia  Total function   \n",
       "24870  2021                       Denmark  Total function   \n",
       "24889  2021                   El Salvador  Total function   \n",
       "24908  2021                       Estonia  Total function   \n",
       "24927  2021                       Finland  Total function   \n",
       "24946  2021                        France  Total function   \n",
       "24965  2021                       Georgia  Total function   \n",
       "24983  2021                       Germany  Total function   \n",
       "25002  2021                        Greece  Total function   \n",
       "25021  2021                     Guatemala  Total function   \n",
       "25040  2021                       Hungary  Total function   \n",
       "25059  2021                       Iceland  Total function   \n",
       "25078  2021                     Indonesia  Total function   \n",
       "25088  2021                       Ireland  Total function   \n",
       "25107  2021                        Israel  Total function   \n",
       "25123  2021                         Italy  Total function   \n",
       "25142  2021                         Japan  Total function   \n",
       "25161  2021                      Kiribati  Total function   \n",
       "25171  2021                    Kyrgyzstan  Total function   \n",
       "25190  2021                        Latvia  Total function   \n",
       "25209  2021                     Lithuania  Total function   \n",
       "25228  2021                    Luxembourg  Total function   \n",
       "25247  2021                      Maldives  Total function   \n",
       "25257  2021                         Malta  Total function   \n",
       "25276  2021                     Mauritius  Total function   \n",
       "25295  2021          Moldova, Republic of  Total function   \n",
       "25314  2021                      Mongolia  Total function   \n",
       "25323  2021                         Nepal  Total function   \n",
       "25342  2021  Netherlands (Kingdom of the)  Total function   \n",
       "25361  2021                   New Zealand  Total function   \n",
       "25371  2021                        Norway  Total function   \n",
       "25390  2021                   Philippines  Total function   \n",
       "25400  2021                        Poland  Total function   \n",
       "25419  2021                      Portugal  Total function   \n",
       "25437  2021                       Romania  Total function   \n",
       "25456  2021            Russian Federation  Total function   \n",
       "25457  2021                         Samoa  Total function   \n",
       "25467  2021                    San Marino  Total function   \n",
       "25506  2021                     Singapore  Total function   \n",
       "25525  2021                      Slovakia  Total function   \n",
       "25544  2021                      Slovenia  Total function   \n",
       "25563  2021                  South Africa  Total function   \n",
       "25582  2021                         Spain  Total function   \n",
       "25601  2021                     Sri Lanka  Total function   \n",
       "25610  2021                        Sweden  Total function   \n",
       "25629  2021    Switzerland, Liechtenstein  Total function   \n",
       "25648  2021                      Thailand  Total function   \n",
       "25666  2021                       Türkiye  Total function   \n",
       "25685  2021                       Ukraine  Total function   \n",
       "25704  2021                United Kingdom  Total function   \n",
       "25723  2021      United States of America  Total function   \n",
       "\n",
       "       Expenditure(million USD)     GDP(%)  \n",
       "24636              5.737172e+03   31.41927  \n",
       "24655              4.063226e+03   29.31320  \n",
       "24673              7.196338e+05   41.48865  \n",
       "24691              2.687915e+05   55.95528  \n",
       "24710              1.748737e+04   32.01514  \n",
       "24729              3.296801e+05   55.49197  \n",
       "24748              3.414359e+04   40.61929  \n",
       "24767              8.317563e+05   41.83177  \n",
       "24783              1.081190e+05   34.10066  \n",
       "24793              1.158519e+04   38.73990  \n",
       "24803              1.081326e+05   34.38630  \n",
       "24813              4.442324e+03    6.44234  \n",
       "24832              1.223024e+04   43.05193  \n",
       "24851              1.310715e+05   46.51590  \n",
       "24870              2.023531e+05   50.80378  \n",
       "24889              9.482200e+03   32.99655  \n",
       "24908              1.542364e+04   41.47125  \n",
       "24927              1.654985e+05   55.66681  \n",
       "24946              1.746522e+06   58.87531  \n",
       "24965              6.210162e+03   33.21578  \n",
       "24983              2.183337e+06   51.25284  \n",
       "25002              1.234402e+05   57.44776  \n",
       "25021              1.446423e+04   16.82164  \n",
       "25040              8.804785e+04   48.41837  \n",
       "25059              1.260506e+04   49.23387  \n",
       "25078              2.250467e+05   18.97378  \n",
       "25088              1.251508e+05   24.82251  \n",
       "25107              1.995505e+05   41.43565  \n",
       "25123              1.166379e+06   55.33890  \n",
       "25142              2.225634e+06   45.04532  \n",
       "25161              2.501040e+02  109.95777  \n",
       "25171              2.896203e+03   33.13475  \n",
       "25190              1.752135e+04   43.96440  \n",
       "25209              2.491698e+04   37.50001  \n",
       "25228              3.667228e+04   42.88843  \n",
       "25247              2.114220e+03   39.11183  \n",
       "25257              7.726015e+03   43.59895  \n",
       "25276              3.976793e+03   34.50514  \n",
       "25295              4.638650e+03   33.90802  \n",
       "25314              4.866378e+03   32.23189  \n",
       "25323              1.045524e+04   28.87615  \n",
       "25342              4.719997e+05   46.60130  \n",
       "25361              9.601641e+04   38.33736  \n",
       "25371              2.367774e+05   49.10613  \n",
       "25390              9.148385e+04   23.21416  \n",
       "25400              3.003900e+05   44.21128  \n",
       "25419              1.212746e+05   47.80930  \n",
       "25437              1.135769e+05   39.97971  \n",
       "25456              6.477011e+05   36.41262  \n",
       "25457              2.947710e+02   34.38516  \n",
       "25467              8.112180e+02   47.67395  \n",
       "25506              7.719411e+04   19.44476  \n",
       "25525              5.399963e+04   46.34083  \n",
       "25544              3.043790e+04   49.29328  \n",
       "25563              1.682647e+05   40.15714  \n",
       "25582              7.224935e+05   50.61673  \n",
       "25601              1.778512e+04   20.84795  \n",
       "25610              3.147669e+05   49.51782  \n",
       "25629              2.919684e+05   35.62872  \n",
       "25648              1.339834e+05   26.47989  \n",
       "25666              2.645200e+05   32.29657  \n",
       "25685              8.046671e+04   40.21614  \n",
       "25704              1.511473e+06   48.26862  \n",
       "25723              1.047608e+07   44.72828  "
      ]
     },
     "execution_count": 43,
     "metadata": {},
     "output_type": "execute_result"
    }
   ],
   "source": [
    "Ztotal = wgovt[(wgovt['Year'] == 2021) & (wgovt['Sector'] == 'Total function')]\n",
    "Ztotal"
   ]
  },
  {
   "cell_type": "code",
   "execution_count": 44,
   "id": "87f12550",
   "metadata": {},
   "outputs": [],
   "source": [
    "import plotly.express as px"
   ]
  },
  {
   "cell_type": "code",
   "execution_count": 51,
   "id": "92602c67",
   "metadata": {},
   "outputs": [
    {
     "data": {
      "application/vnd.plotly.v1+json": {
       "config": {
        "plotlyServerURL": "https://plot.ly"
       },
       "data": [
        {
         "coloraxis": "coloraxis",
         "geo": "geo",
         "hovertemplate": "<b>%{hovertext}</b><br><br>Country=%{location}<br>Expenditure (million USD)=%{z}<extra></extra>",
         "hovertext": [
          "Albania",
          "Armenia",
          "Australia",
          "Austria",
          "Azerbaijan",
          "Belgium",
          "Bulgaria",
          "Canada",
          "Chile",
          "China, Macao SAR",
          "Colombia",
          "Croatia",
          "Cyprus",
          "Czechia",
          "Denmark",
          "El Salvador",
          "Estonia",
          "Finland",
          "France",
          "Georgia",
          "Germany",
          "Greece",
          "Guatemala",
          "Hungary",
          "Iceland",
          "Indonesia",
          "Ireland",
          "Israel",
          "Italy",
          "Japan",
          "Kiribati",
          "Kyrgyzstan",
          "Latvia",
          "Lithuania",
          "Luxembourg",
          "Maldives",
          "Malta",
          "Mauritius",
          "Moldova, Republic of",
          "Mongolia",
          "Nepal",
          "Netherlands (Kingdom of the)",
          "New Zealand",
          "Norway",
          "Philippines",
          "Poland",
          "Portugal",
          "Romania",
          "Russian Federation",
          "Samoa",
          "San Marino",
          "Singapore",
          "Slovakia",
          "Slovenia",
          "South Africa",
          "Spain",
          "Sri Lanka",
          "Sweden",
          "Switzerland, Liechtenstein",
          "Thailand",
          "Türkiye",
          "Ukraine",
          "United Kingdom",
          "United States of America"
         ],
         "locationmode": "country names",
         "locations": [
          "Albania",
          "Armenia",
          "Australia",
          "Austria",
          "Azerbaijan",
          "Belgium",
          "Bulgaria",
          "Canada",
          "Chile",
          "China, Macao SAR",
          "Colombia",
          "Croatia",
          "Cyprus",
          "Czechia",
          "Denmark",
          "El Salvador",
          "Estonia",
          "Finland",
          "France",
          "Georgia",
          "Germany",
          "Greece",
          "Guatemala",
          "Hungary",
          "Iceland",
          "Indonesia",
          "Ireland",
          "Israel",
          "Italy",
          "Japan",
          "Kiribati",
          "Kyrgyzstan",
          "Latvia",
          "Lithuania",
          "Luxembourg",
          "Maldives",
          "Malta",
          "Mauritius",
          "Moldova, Republic of",
          "Mongolia",
          "Nepal",
          "Netherlands (Kingdom of the)",
          "New Zealand",
          "Norway",
          "Philippines",
          "Poland",
          "Portugal",
          "Romania",
          "Russian Federation",
          "Samoa",
          "San Marino",
          "Singapore",
          "Slovakia",
          "Slovenia",
          "South Africa",
          "Spain",
          "Sri Lanka",
          "Sweden",
          "Switzerland, Liechtenstein",
          "Thailand",
          "Türkiye",
          "Ukraine",
          "United Kingdom",
          "United States of America"
         ],
         "name": "",
         "type": "choropleth",
         "z": [
          5737.172,
          4063.226,
          719633.821,
          268791.503,
          17487.369,
          329680.109,
          34143.587,
          831756.29,
          108119.038,
          11585.195,
          108132.573,
          4442.324,
          12230.244,
          131071.508,
          202353.128,
          9482.2,
          15423.643,
          165498.486,
          1746521.865,
          6210.162,
          2183337.43,
          123440.241,
          14464.234,
          88047.852,
          12605.061,
          225046.66,
          125150.779,
          199550.475,
          1166379.463,
          2225634.412,
          250.104,
          2896.203,
          17521.352,
          24916.979,
          36672.283,
          2114.22,
          7726.015,
          3976.793,
          4638.65,
          4866.378,
          10455.239,
          471999.724,
          96016.41,
          236777.416,
          91483.845,
          300389.962,
          121274.584,
          113576.941,
          647701.052,
          294.771,
          811.218,
          77194.11,
          53999.629,
          30437.905,
          168264.71,
          722493.477,
          17785.125,
          314766.863,
          291968.372,
          133983.409,
          264520.022,
          80466.714,
          1511472.954,
          10476081.77
         ]
        }
       ],
       "layout": {
        "coloraxis": {
         "colorbar": {
          "title": {
           "text": "Expenditure (million USD)"
          }
         },
         "colorscale": [
          [
           0,
           "#440154"
          ],
          [
           0.1111111111111111,
           "#482878"
          ],
          [
           0.2222222222222222,
           "#3e4989"
          ],
          [
           0.3333333333333333,
           "#31688e"
          ],
          [
           0.4444444444444444,
           "#26828e"
          ],
          [
           0.5555555555555556,
           "#1f9e89"
          ],
          [
           0.6666666666666666,
           "#35b779"
          ],
          [
           0.7777777777777778,
           "#6ece58"
          ],
          [
           0.8888888888888888,
           "#b5de2b"
          ],
          [
           1,
           "#fde725"
          ]
         ]
        },
        "geo": {
         "center": {},
         "countrycolor": "Black",
         "domain": {
          "x": [
           0,
           1
          ],
          "y": [
           0,
           1
          ]
         },
         "projection": {
          "type": "natural earth"
         },
         "showcountries": true
        },
        "legend": {
         "tracegroupgap": 0
        },
        "template": {
         "data": {
          "bar": [
           {
            "error_x": {
             "color": "#2a3f5f"
            },
            "error_y": {
             "color": "#2a3f5f"
            },
            "marker": {
             "line": {
              "color": "#E5ECF6",
              "width": 0.5
             },
             "pattern": {
              "fillmode": "overlay",
              "size": 10,
              "solidity": 0.2
             }
            },
            "type": "bar"
           }
          ],
          "barpolar": [
           {
            "marker": {
             "line": {
              "color": "#E5ECF6",
              "width": 0.5
             },
             "pattern": {
              "fillmode": "overlay",
              "size": 10,
              "solidity": 0.2
             }
            },
            "type": "barpolar"
           }
          ],
          "carpet": [
           {
            "aaxis": {
             "endlinecolor": "#2a3f5f",
             "gridcolor": "white",
             "linecolor": "white",
             "minorgridcolor": "white",
             "startlinecolor": "#2a3f5f"
            },
            "baxis": {
             "endlinecolor": "#2a3f5f",
             "gridcolor": "white",
             "linecolor": "white",
             "minorgridcolor": "white",
             "startlinecolor": "#2a3f5f"
            },
            "type": "carpet"
           }
          ],
          "choropleth": [
           {
            "colorbar": {
             "outlinewidth": 0,
             "ticks": ""
            },
            "type": "choropleth"
           }
          ],
          "contour": [
           {
            "colorbar": {
             "outlinewidth": 0,
             "ticks": ""
            },
            "colorscale": [
             [
              0,
              "#0d0887"
             ],
             [
              0.1111111111111111,
              "#46039f"
             ],
             [
              0.2222222222222222,
              "#7201a8"
             ],
             [
              0.3333333333333333,
              "#9c179e"
             ],
             [
              0.4444444444444444,
              "#bd3786"
             ],
             [
              0.5555555555555556,
              "#d8576b"
             ],
             [
              0.6666666666666666,
              "#ed7953"
             ],
             [
              0.7777777777777778,
              "#fb9f3a"
             ],
             [
              0.8888888888888888,
              "#fdca26"
             ],
             [
              1,
              "#f0f921"
             ]
            ],
            "type": "contour"
           }
          ],
          "contourcarpet": [
           {
            "colorbar": {
             "outlinewidth": 0,
             "ticks": ""
            },
            "type": "contourcarpet"
           }
          ],
          "heatmap": [
           {
            "colorbar": {
             "outlinewidth": 0,
             "ticks": ""
            },
            "colorscale": [
             [
              0,
              "#0d0887"
             ],
             [
              0.1111111111111111,
              "#46039f"
             ],
             [
              0.2222222222222222,
              "#7201a8"
             ],
             [
              0.3333333333333333,
              "#9c179e"
             ],
             [
              0.4444444444444444,
              "#bd3786"
             ],
             [
              0.5555555555555556,
              "#d8576b"
             ],
             [
              0.6666666666666666,
              "#ed7953"
             ],
             [
              0.7777777777777778,
              "#fb9f3a"
             ],
             [
              0.8888888888888888,
              "#fdca26"
             ],
             [
              1,
              "#f0f921"
             ]
            ],
            "type": "heatmap"
           }
          ],
          "heatmapgl": [
           {
            "colorbar": {
             "outlinewidth": 0,
             "ticks": ""
            },
            "colorscale": [
             [
              0,
              "#0d0887"
             ],
             [
              0.1111111111111111,
              "#46039f"
             ],
             [
              0.2222222222222222,
              "#7201a8"
             ],
             [
              0.3333333333333333,
              "#9c179e"
             ],
             [
              0.4444444444444444,
              "#bd3786"
             ],
             [
              0.5555555555555556,
              "#d8576b"
             ],
             [
              0.6666666666666666,
              "#ed7953"
             ],
             [
              0.7777777777777778,
              "#fb9f3a"
             ],
             [
              0.8888888888888888,
              "#fdca26"
             ],
             [
              1,
              "#f0f921"
             ]
            ],
            "type": "heatmapgl"
           }
          ],
          "histogram": [
           {
            "marker": {
             "pattern": {
              "fillmode": "overlay",
              "size": 10,
              "solidity": 0.2
             }
            },
            "type": "histogram"
           }
          ],
          "histogram2d": [
           {
            "colorbar": {
             "outlinewidth": 0,
             "ticks": ""
            },
            "colorscale": [
             [
              0,
              "#0d0887"
             ],
             [
              0.1111111111111111,
              "#46039f"
             ],
             [
              0.2222222222222222,
              "#7201a8"
             ],
             [
              0.3333333333333333,
              "#9c179e"
             ],
             [
              0.4444444444444444,
              "#bd3786"
             ],
             [
              0.5555555555555556,
              "#d8576b"
             ],
             [
              0.6666666666666666,
              "#ed7953"
             ],
             [
              0.7777777777777778,
              "#fb9f3a"
             ],
             [
              0.8888888888888888,
              "#fdca26"
             ],
             [
              1,
              "#f0f921"
             ]
            ],
            "type": "histogram2d"
           }
          ],
          "histogram2dcontour": [
           {
            "colorbar": {
             "outlinewidth": 0,
             "ticks": ""
            },
            "colorscale": [
             [
              0,
              "#0d0887"
             ],
             [
              0.1111111111111111,
              "#46039f"
             ],
             [
              0.2222222222222222,
              "#7201a8"
             ],
             [
              0.3333333333333333,
              "#9c179e"
             ],
             [
              0.4444444444444444,
              "#bd3786"
             ],
             [
              0.5555555555555556,
              "#d8576b"
             ],
             [
              0.6666666666666666,
              "#ed7953"
             ],
             [
              0.7777777777777778,
              "#fb9f3a"
             ],
             [
              0.8888888888888888,
              "#fdca26"
             ],
             [
              1,
              "#f0f921"
             ]
            ],
            "type": "histogram2dcontour"
           }
          ],
          "mesh3d": [
           {
            "colorbar": {
             "outlinewidth": 0,
             "ticks": ""
            },
            "type": "mesh3d"
           }
          ],
          "parcoords": [
           {
            "line": {
             "colorbar": {
              "outlinewidth": 0,
              "ticks": ""
             }
            },
            "type": "parcoords"
           }
          ],
          "pie": [
           {
            "automargin": true,
            "type": "pie"
           }
          ],
          "scatter": [
           {
            "fillpattern": {
             "fillmode": "overlay",
             "size": 10,
             "solidity": 0.2
            },
            "type": "scatter"
           }
          ],
          "scatter3d": [
           {
            "line": {
             "colorbar": {
              "outlinewidth": 0,
              "ticks": ""
             }
            },
            "marker": {
             "colorbar": {
              "outlinewidth": 0,
              "ticks": ""
             }
            },
            "type": "scatter3d"
           }
          ],
          "scattercarpet": [
           {
            "marker": {
             "colorbar": {
              "outlinewidth": 0,
              "ticks": ""
             }
            },
            "type": "scattercarpet"
           }
          ],
          "scattergeo": [
           {
            "marker": {
             "colorbar": {
              "outlinewidth": 0,
              "ticks": ""
             }
            },
            "type": "scattergeo"
           }
          ],
          "scattergl": [
           {
            "marker": {
             "colorbar": {
              "outlinewidth": 0,
              "ticks": ""
             }
            },
            "type": "scattergl"
           }
          ],
          "scattermapbox": [
           {
            "marker": {
             "colorbar": {
              "outlinewidth": 0,
              "ticks": ""
             }
            },
            "type": "scattermapbox"
           }
          ],
          "scatterpolar": [
           {
            "marker": {
             "colorbar": {
              "outlinewidth": 0,
              "ticks": ""
             }
            },
            "type": "scatterpolar"
           }
          ],
          "scatterpolargl": [
           {
            "marker": {
             "colorbar": {
              "outlinewidth": 0,
              "ticks": ""
             }
            },
            "type": "scatterpolargl"
           }
          ],
          "scatterternary": [
           {
            "marker": {
             "colorbar": {
              "outlinewidth": 0,
              "ticks": ""
             }
            },
            "type": "scatterternary"
           }
          ],
          "surface": [
           {
            "colorbar": {
             "outlinewidth": 0,
             "ticks": ""
            },
            "colorscale": [
             [
              0,
              "#0d0887"
             ],
             [
              0.1111111111111111,
              "#46039f"
             ],
             [
              0.2222222222222222,
              "#7201a8"
             ],
             [
              0.3333333333333333,
              "#9c179e"
             ],
             [
              0.4444444444444444,
              "#bd3786"
             ],
             [
              0.5555555555555556,
              "#d8576b"
             ],
             [
              0.6666666666666666,
              "#ed7953"
             ],
             [
              0.7777777777777778,
              "#fb9f3a"
             ],
             [
              0.8888888888888888,
              "#fdca26"
             ],
             [
              1,
              "#f0f921"
             ]
            ],
            "type": "surface"
           }
          ],
          "table": [
           {
            "cells": {
             "fill": {
              "color": "#EBF0F8"
             },
             "line": {
              "color": "white"
             }
            },
            "header": {
             "fill": {
              "color": "#C8D4E3"
             },
             "line": {
              "color": "white"
             }
            },
            "type": "table"
           }
          ]
         },
         "layout": {
          "annotationdefaults": {
           "arrowcolor": "#2a3f5f",
           "arrowhead": 0,
           "arrowwidth": 1
          },
          "autotypenumbers": "strict",
          "coloraxis": {
           "colorbar": {
            "outlinewidth": 0,
            "ticks": ""
           }
          },
          "colorscale": {
           "diverging": [
            [
             0,
             "#8e0152"
            ],
            [
             0.1,
             "#c51b7d"
            ],
            [
             0.2,
             "#de77ae"
            ],
            [
             0.3,
             "#f1b6da"
            ],
            [
             0.4,
             "#fde0ef"
            ],
            [
             0.5,
             "#f7f7f7"
            ],
            [
             0.6,
             "#e6f5d0"
            ],
            [
             0.7,
             "#b8e186"
            ],
            [
             0.8,
             "#7fbc41"
            ],
            [
             0.9,
             "#4d9221"
            ],
            [
             1,
             "#276419"
            ]
           ],
           "sequential": [
            [
             0,
             "#0d0887"
            ],
            [
             0.1111111111111111,
             "#46039f"
            ],
            [
             0.2222222222222222,
             "#7201a8"
            ],
            [
             0.3333333333333333,
             "#9c179e"
            ],
            [
             0.4444444444444444,
             "#bd3786"
            ],
            [
             0.5555555555555556,
             "#d8576b"
            ],
            [
             0.6666666666666666,
             "#ed7953"
            ],
            [
             0.7777777777777778,
             "#fb9f3a"
            ],
            [
             0.8888888888888888,
             "#fdca26"
            ],
            [
             1,
             "#f0f921"
            ]
           ],
           "sequentialminus": [
            [
             0,
             "#0d0887"
            ],
            [
             0.1111111111111111,
             "#46039f"
            ],
            [
             0.2222222222222222,
             "#7201a8"
            ],
            [
             0.3333333333333333,
             "#9c179e"
            ],
            [
             0.4444444444444444,
             "#bd3786"
            ],
            [
             0.5555555555555556,
             "#d8576b"
            ],
            [
             0.6666666666666666,
             "#ed7953"
            ],
            [
             0.7777777777777778,
             "#fb9f3a"
            ],
            [
             0.8888888888888888,
             "#fdca26"
            ],
            [
             1,
             "#f0f921"
            ]
           ]
          },
          "colorway": [
           "#636efa",
           "#EF553B",
           "#00cc96",
           "#ab63fa",
           "#FFA15A",
           "#19d3f3",
           "#FF6692",
           "#B6E880",
           "#FF97FF",
           "#FECB52"
          ],
          "font": {
           "color": "#2a3f5f"
          },
          "geo": {
           "bgcolor": "white",
           "lakecolor": "white",
           "landcolor": "#E5ECF6",
           "showlakes": true,
           "showland": true,
           "subunitcolor": "white"
          },
          "hoverlabel": {
           "align": "left"
          },
          "hovermode": "closest",
          "mapbox": {
           "style": "light"
          },
          "paper_bgcolor": "white",
          "plot_bgcolor": "#E5ECF6",
          "polar": {
           "angularaxis": {
            "gridcolor": "white",
            "linecolor": "white",
            "ticks": ""
           },
           "bgcolor": "#E5ECF6",
           "radialaxis": {
            "gridcolor": "white",
            "linecolor": "white",
            "ticks": ""
           }
          },
          "scene": {
           "xaxis": {
            "backgroundcolor": "#E5ECF6",
            "gridcolor": "white",
            "gridwidth": 2,
            "linecolor": "white",
            "showbackground": true,
            "ticks": "",
            "zerolinecolor": "white"
           },
           "yaxis": {
            "backgroundcolor": "#E5ECF6",
            "gridcolor": "white",
            "gridwidth": 2,
            "linecolor": "white",
            "showbackground": true,
            "ticks": "",
            "zerolinecolor": "white"
           },
           "zaxis": {
            "backgroundcolor": "#E5ECF6",
            "gridcolor": "white",
            "gridwidth": 2,
            "linecolor": "white",
            "showbackground": true,
            "ticks": "",
            "zerolinecolor": "white"
           }
          },
          "shapedefaults": {
           "line": {
            "color": "#2a3f5f"
           }
          },
          "ternary": {
           "aaxis": {
            "gridcolor": "white",
            "linecolor": "white",
            "ticks": ""
           },
           "baxis": {
            "gridcolor": "white",
            "linecolor": "white",
            "ticks": ""
           },
           "bgcolor": "#E5ECF6",
           "caxis": {
            "gridcolor": "white",
            "linecolor": "white",
            "ticks": ""
           }
          },
          "title": {
           "x": 0.05
          },
          "xaxis": {
           "automargin": true,
           "gridcolor": "white",
           "linecolor": "white",
           "ticks": "",
           "title": {
            "standoff": 15
           },
           "zerolinecolor": "white",
           "zerolinewidth": 2
          },
          "yaxis": {
           "automargin": true,
           "gridcolor": "white",
           "linecolor": "white",
           "ticks": "",
           "title": {
            "standoff": 15
           },
           "zerolinecolor": "white",
           "zerolinewidth": 2
          }
         }
        },
        "title": {
         "text": "Expenditure of Countries (million USD)"
        }
       }
      },
      "text/html": [
       "<div>                            <div id=\"46d76697-bbd5-42c0-9750-0a0149096ecb\" class=\"plotly-graph-div\" style=\"height:525px; width:100%;\"></div>            <script type=\"text/javascript\">                require([\"plotly\"], function(Plotly) {                    window.PLOTLYENV=window.PLOTLYENV || {};                                    if (document.getElementById(\"46d76697-bbd5-42c0-9750-0a0149096ecb\")) {                    Plotly.newPlot(                        \"46d76697-bbd5-42c0-9750-0a0149096ecb\",                        [{\"coloraxis\":\"coloraxis\",\"geo\":\"geo\",\"hovertemplate\":\"<b>%{hovertext}</b><br><br>Country=%{location}<br>Expenditure (million USD)=%{z}<extra></extra>\",\"hovertext\":[\"Albania\",\"Armenia\",\"Australia\",\"Austria\",\"Azerbaijan\",\"Belgium\",\"Bulgaria\",\"Canada\",\"Chile\",\"China, Macao SAR\",\"Colombia\",\"Croatia\",\"Cyprus\",\"Czechia\",\"Denmark\",\"El Salvador\",\"Estonia\",\"Finland\",\"France\",\"Georgia\",\"Germany\",\"Greece\",\"Guatemala\",\"Hungary\",\"Iceland\",\"Indonesia\",\"Ireland\",\"Israel\",\"Italy\",\"Japan\",\"Kiribati\",\"Kyrgyzstan\",\"Latvia\",\"Lithuania\",\"Luxembourg\",\"Maldives\",\"Malta\",\"Mauritius\",\"Moldova, Republic of\",\"Mongolia\",\"Nepal\",\"Netherlands (Kingdom of the)\",\"New Zealand\",\"Norway\",\"Philippines\",\"Poland\",\"Portugal\",\"Romania\",\"Russian Federation\",\"Samoa\",\"San Marino\",\"Singapore\",\"Slovakia\",\"Slovenia\",\"South Africa\",\"Spain\",\"Sri Lanka\",\"Sweden\",\"Switzerland, Liechtenstein\",\"Thailand\",\"T\\u00fcrkiye\",\"Ukraine\",\"United Kingdom\",\"United States of America\"],\"locationmode\":\"country names\",\"locations\":[\"Albania\",\"Armenia\",\"Australia\",\"Austria\",\"Azerbaijan\",\"Belgium\",\"Bulgaria\",\"Canada\",\"Chile\",\"China, Macao SAR\",\"Colombia\",\"Croatia\",\"Cyprus\",\"Czechia\",\"Denmark\",\"El Salvador\",\"Estonia\",\"Finland\",\"France\",\"Georgia\",\"Germany\",\"Greece\",\"Guatemala\",\"Hungary\",\"Iceland\",\"Indonesia\",\"Ireland\",\"Israel\",\"Italy\",\"Japan\",\"Kiribati\",\"Kyrgyzstan\",\"Latvia\",\"Lithuania\",\"Luxembourg\",\"Maldives\",\"Malta\",\"Mauritius\",\"Moldova, Republic of\",\"Mongolia\",\"Nepal\",\"Netherlands (Kingdom of the)\",\"New Zealand\",\"Norway\",\"Philippines\",\"Poland\",\"Portugal\",\"Romania\",\"Russian Federation\",\"Samoa\",\"San Marino\",\"Singapore\",\"Slovakia\",\"Slovenia\",\"South Africa\",\"Spain\",\"Sri Lanka\",\"Sweden\",\"Switzerland, Liechtenstein\",\"Thailand\",\"T\\u00fcrkiye\",\"Ukraine\",\"United Kingdom\",\"United States of America\"],\"name\":\"\",\"z\":[5737.172,4063.226,719633.821,268791.503,17487.369,329680.109,34143.587,831756.29,108119.038,11585.195,108132.573,4442.324,12230.244,131071.508,202353.128,9482.2,15423.643,165498.486,1746521.865,6210.162,2183337.43,123440.241,14464.234,88047.852,12605.061,225046.66,125150.779,199550.475,1166379.463,2225634.412,250.104,2896.203,17521.352,24916.979,36672.283,2114.22,7726.015,3976.793,4638.65,4866.378,10455.239,471999.724,96016.41,236777.416,91483.845,300389.962,121274.584,113576.941,647701.052,294.771,811.218,77194.11,53999.629,30437.905,168264.71,722493.477,17785.125,314766.863,291968.372,133983.409,264520.022,80466.714,1511472.954,10476081.77],\"type\":\"choropleth\"}],                        {\"template\":{\"data\":{\"histogram2dcontour\":[{\"type\":\"histogram2dcontour\",\"colorbar\":{\"outlinewidth\":0,\"ticks\":\"\"},\"colorscale\":[[0.0,\"#0d0887\"],[0.1111111111111111,\"#46039f\"],[0.2222222222222222,\"#7201a8\"],[0.3333333333333333,\"#9c179e\"],[0.4444444444444444,\"#bd3786\"],[0.5555555555555556,\"#d8576b\"],[0.6666666666666666,\"#ed7953\"],[0.7777777777777778,\"#fb9f3a\"],[0.8888888888888888,\"#fdca26\"],[1.0,\"#f0f921\"]]}],\"choropleth\":[{\"type\":\"choropleth\",\"colorbar\":{\"outlinewidth\":0,\"ticks\":\"\"}}],\"histogram2d\":[{\"type\":\"histogram2d\",\"colorbar\":{\"outlinewidth\":0,\"ticks\":\"\"},\"colorscale\":[[0.0,\"#0d0887\"],[0.1111111111111111,\"#46039f\"],[0.2222222222222222,\"#7201a8\"],[0.3333333333333333,\"#9c179e\"],[0.4444444444444444,\"#bd3786\"],[0.5555555555555556,\"#d8576b\"],[0.6666666666666666,\"#ed7953\"],[0.7777777777777778,\"#fb9f3a\"],[0.8888888888888888,\"#fdca26\"],[1.0,\"#f0f921\"]]}],\"heatmap\":[{\"type\":\"heatmap\",\"colorbar\":{\"outlinewidth\":0,\"ticks\":\"\"},\"colorscale\":[[0.0,\"#0d0887\"],[0.1111111111111111,\"#46039f\"],[0.2222222222222222,\"#7201a8\"],[0.3333333333333333,\"#9c179e\"],[0.4444444444444444,\"#bd3786\"],[0.5555555555555556,\"#d8576b\"],[0.6666666666666666,\"#ed7953\"],[0.7777777777777778,\"#fb9f3a\"],[0.8888888888888888,\"#fdca26\"],[1.0,\"#f0f921\"]]}],\"heatmapgl\":[{\"type\":\"heatmapgl\",\"colorbar\":{\"outlinewidth\":0,\"ticks\":\"\"},\"colorscale\":[[0.0,\"#0d0887\"],[0.1111111111111111,\"#46039f\"],[0.2222222222222222,\"#7201a8\"],[0.3333333333333333,\"#9c179e\"],[0.4444444444444444,\"#bd3786\"],[0.5555555555555556,\"#d8576b\"],[0.6666666666666666,\"#ed7953\"],[0.7777777777777778,\"#fb9f3a\"],[0.8888888888888888,\"#fdca26\"],[1.0,\"#f0f921\"]]}],\"contourcarpet\":[{\"type\":\"contourcarpet\",\"colorbar\":{\"outlinewidth\":0,\"ticks\":\"\"}}],\"contour\":[{\"type\":\"contour\",\"colorbar\":{\"outlinewidth\":0,\"ticks\":\"\"},\"colorscale\":[[0.0,\"#0d0887\"],[0.1111111111111111,\"#46039f\"],[0.2222222222222222,\"#7201a8\"],[0.3333333333333333,\"#9c179e\"],[0.4444444444444444,\"#bd3786\"],[0.5555555555555556,\"#d8576b\"],[0.6666666666666666,\"#ed7953\"],[0.7777777777777778,\"#fb9f3a\"],[0.8888888888888888,\"#fdca26\"],[1.0,\"#f0f921\"]]}],\"surface\":[{\"type\":\"surface\",\"colorbar\":{\"outlinewidth\":0,\"ticks\":\"\"},\"colorscale\":[[0.0,\"#0d0887\"],[0.1111111111111111,\"#46039f\"],[0.2222222222222222,\"#7201a8\"],[0.3333333333333333,\"#9c179e\"],[0.4444444444444444,\"#bd3786\"],[0.5555555555555556,\"#d8576b\"],[0.6666666666666666,\"#ed7953\"],[0.7777777777777778,\"#fb9f3a\"],[0.8888888888888888,\"#fdca26\"],[1.0,\"#f0f921\"]]}],\"mesh3d\":[{\"type\":\"mesh3d\",\"colorbar\":{\"outlinewidth\":0,\"ticks\":\"\"}}],\"scatter\":[{\"fillpattern\":{\"fillmode\":\"overlay\",\"size\":10,\"solidity\":0.2},\"type\":\"scatter\"}],\"parcoords\":[{\"type\":\"parcoords\",\"line\":{\"colorbar\":{\"outlinewidth\":0,\"ticks\":\"\"}}}],\"scatterpolargl\":[{\"type\":\"scatterpolargl\",\"marker\":{\"colorbar\":{\"outlinewidth\":0,\"ticks\":\"\"}}}],\"bar\":[{\"error_x\":{\"color\":\"#2a3f5f\"},\"error_y\":{\"color\":\"#2a3f5f\"},\"marker\":{\"line\":{\"color\":\"#E5ECF6\",\"width\":0.5},\"pattern\":{\"fillmode\":\"overlay\",\"size\":10,\"solidity\":0.2}},\"type\":\"bar\"}],\"scattergeo\":[{\"type\":\"scattergeo\",\"marker\":{\"colorbar\":{\"outlinewidth\":0,\"ticks\":\"\"}}}],\"scatterpolar\":[{\"type\":\"scatterpolar\",\"marker\":{\"colorbar\":{\"outlinewidth\":0,\"ticks\":\"\"}}}],\"histogram\":[{\"marker\":{\"pattern\":{\"fillmode\":\"overlay\",\"size\":10,\"solidity\":0.2}},\"type\":\"histogram\"}],\"scattergl\":[{\"type\":\"scattergl\",\"marker\":{\"colorbar\":{\"outlinewidth\":0,\"ticks\":\"\"}}}],\"scatter3d\":[{\"type\":\"scatter3d\",\"line\":{\"colorbar\":{\"outlinewidth\":0,\"ticks\":\"\"}},\"marker\":{\"colorbar\":{\"outlinewidth\":0,\"ticks\":\"\"}}}],\"scattermapbox\":[{\"type\":\"scattermapbox\",\"marker\":{\"colorbar\":{\"outlinewidth\":0,\"ticks\":\"\"}}}],\"scatterternary\":[{\"type\":\"scatterternary\",\"marker\":{\"colorbar\":{\"outlinewidth\":0,\"ticks\":\"\"}}}],\"scattercarpet\":[{\"type\":\"scattercarpet\",\"marker\":{\"colorbar\":{\"outlinewidth\":0,\"ticks\":\"\"}}}],\"carpet\":[{\"aaxis\":{\"endlinecolor\":\"#2a3f5f\",\"gridcolor\":\"white\",\"linecolor\":\"white\",\"minorgridcolor\":\"white\",\"startlinecolor\":\"#2a3f5f\"},\"baxis\":{\"endlinecolor\":\"#2a3f5f\",\"gridcolor\":\"white\",\"linecolor\":\"white\",\"minorgridcolor\":\"white\",\"startlinecolor\":\"#2a3f5f\"},\"type\":\"carpet\"}],\"table\":[{\"cells\":{\"fill\":{\"color\":\"#EBF0F8\"},\"line\":{\"color\":\"white\"}},\"header\":{\"fill\":{\"color\":\"#C8D4E3\"},\"line\":{\"color\":\"white\"}},\"type\":\"table\"}],\"barpolar\":[{\"marker\":{\"line\":{\"color\":\"#E5ECF6\",\"width\":0.5},\"pattern\":{\"fillmode\":\"overlay\",\"size\":10,\"solidity\":0.2}},\"type\":\"barpolar\"}],\"pie\":[{\"automargin\":true,\"type\":\"pie\"}]},\"layout\":{\"autotypenumbers\":\"strict\",\"colorway\":[\"#636efa\",\"#EF553B\",\"#00cc96\",\"#ab63fa\",\"#FFA15A\",\"#19d3f3\",\"#FF6692\",\"#B6E880\",\"#FF97FF\",\"#FECB52\"],\"font\":{\"color\":\"#2a3f5f\"},\"hovermode\":\"closest\",\"hoverlabel\":{\"align\":\"left\"},\"paper_bgcolor\":\"white\",\"plot_bgcolor\":\"#E5ECF6\",\"polar\":{\"bgcolor\":\"#E5ECF6\",\"angularaxis\":{\"gridcolor\":\"white\",\"linecolor\":\"white\",\"ticks\":\"\"},\"radialaxis\":{\"gridcolor\":\"white\",\"linecolor\":\"white\",\"ticks\":\"\"}},\"ternary\":{\"bgcolor\":\"#E5ECF6\",\"aaxis\":{\"gridcolor\":\"white\",\"linecolor\":\"white\",\"ticks\":\"\"},\"baxis\":{\"gridcolor\":\"white\",\"linecolor\":\"white\",\"ticks\":\"\"},\"caxis\":{\"gridcolor\":\"white\",\"linecolor\":\"white\",\"ticks\":\"\"}},\"coloraxis\":{\"colorbar\":{\"outlinewidth\":0,\"ticks\":\"\"}},\"colorscale\":{\"sequential\":[[0.0,\"#0d0887\"],[0.1111111111111111,\"#46039f\"],[0.2222222222222222,\"#7201a8\"],[0.3333333333333333,\"#9c179e\"],[0.4444444444444444,\"#bd3786\"],[0.5555555555555556,\"#d8576b\"],[0.6666666666666666,\"#ed7953\"],[0.7777777777777778,\"#fb9f3a\"],[0.8888888888888888,\"#fdca26\"],[1.0,\"#f0f921\"]],\"sequentialminus\":[[0.0,\"#0d0887\"],[0.1111111111111111,\"#46039f\"],[0.2222222222222222,\"#7201a8\"],[0.3333333333333333,\"#9c179e\"],[0.4444444444444444,\"#bd3786\"],[0.5555555555555556,\"#d8576b\"],[0.6666666666666666,\"#ed7953\"],[0.7777777777777778,\"#fb9f3a\"],[0.8888888888888888,\"#fdca26\"],[1.0,\"#f0f921\"]],\"diverging\":[[0,\"#8e0152\"],[0.1,\"#c51b7d\"],[0.2,\"#de77ae\"],[0.3,\"#f1b6da\"],[0.4,\"#fde0ef\"],[0.5,\"#f7f7f7\"],[0.6,\"#e6f5d0\"],[0.7,\"#b8e186\"],[0.8,\"#7fbc41\"],[0.9,\"#4d9221\"],[1,\"#276419\"]]},\"xaxis\":{\"gridcolor\":\"white\",\"linecolor\":\"white\",\"ticks\":\"\",\"title\":{\"standoff\":15},\"zerolinecolor\":\"white\",\"automargin\":true,\"zerolinewidth\":2},\"yaxis\":{\"gridcolor\":\"white\",\"linecolor\":\"white\",\"ticks\":\"\",\"title\":{\"standoff\":15},\"zerolinecolor\":\"white\",\"automargin\":true,\"zerolinewidth\":2},\"scene\":{\"xaxis\":{\"backgroundcolor\":\"#E5ECF6\",\"gridcolor\":\"white\",\"linecolor\":\"white\",\"showbackground\":true,\"ticks\":\"\",\"zerolinecolor\":\"white\",\"gridwidth\":2},\"yaxis\":{\"backgroundcolor\":\"#E5ECF6\",\"gridcolor\":\"white\",\"linecolor\":\"white\",\"showbackground\":true,\"ticks\":\"\",\"zerolinecolor\":\"white\",\"gridwidth\":2},\"zaxis\":{\"backgroundcolor\":\"#E5ECF6\",\"gridcolor\":\"white\",\"linecolor\":\"white\",\"showbackground\":true,\"ticks\":\"\",\"zerolinecolor\":\"white\",\"gridwidth\":2}},\"shapedefaults\":{\"line\":{\"color\":\"#2a3f5f\"}},\"annotationdefaults\":{\"arrowcolor\":\"#2a3f5f\",\"arrowhead\":0,\"arrowwidth\":1},\"geo\":{\"bgcolor\":\"white\",\"landcolor\":\"#E5ECF6\",\"subunitcolor\":\"white\",\"showland\":true,\"showlakes\":true,\"lakecolor\":\"white\"},\"title\":{\"x\":0.05},\"mapbox\":{\"style\":\"light\"}}},\"geo\":{\"domain\":{\"x\":[0.0,1.0],\"y\":[0.0,1.0]},\"projection\":{\"type\":\"natural earth\"},\"center\":{},\"showcountries\":true,\"countrycolor\":\"Black\"},\"coloraxis\":{\"colorbar\":{\"title\":{\"text\":\"Expenditure (million USD)\"}},\"colorscale\":[[0.0,\"#440154\"],[0.1111111111111111,\"#482878\"],[0.2222222222222222,\"#3e4989\"],[0.3333333333333333,\"#31688e\"],[0.4444444444444444,\"#26828e\"],[0.5555555555555556,\"#1f9e89\"],[0.6666666666666666,\"#35b779\"],[0.7777777777777778,\"#6ece58\"],[0.8888888888888888,\"#b5de2b\"],[1.0,\"#fde725\"]]},\"legend\":{\"tracegroupgap\":0},\"title\":{\"text\":\"Expenditure of Countries (million USD)\"}},                        {\"responsive\": true}                    ).then(function(){\n",
       "                            \n",
       "var gd = document.getElementById('46d76697-bbd5-42c0-9750-0a0149096ecb');\n",
       "var x = new MutationObserver(function (mutations, observer) {{\n",
       "        var display = window.getComputedStyle(gd).display;\n",
       "        if (!display || display === 'none') {{\n",
       "            console.log([gd, 'removed!']);\n",
       "            Plotly.purge(gd);\n",
       "            observer.disconnect();\n",
       "        }}\n",
       "}});\n",
       "\n",
       "// Listen for the removal of the full notebook cells\n",
       "var notebookContainer = gd.closest('#notebook-container');\n",
       "if (notebookContainer) {{\n",
       "    x.observe(notebookContainer, {childList: true});\n",
       "}}\n",
       "\n",
       "// Listen for the clearing of the current output cell\n",
       "var outputEl = gd.closest('.output');\n",
       "if (outputEl) {{\n",
       "    x.observe(outputEl, {childList: true});\n",
       "}}\n",
       "\n",
       "                        })                };                });            </script>        </div>"
      ]
     },
     "metadata": {},
     "output_type": "display_data"
    }
   ],
   "source": [
    "\n",
    "fig = px.choropleth(\n",
    "    data_frame=Ztotal, \n",
    "    locations=\"Country\",\n",
    "    locationmode=\"country names\", \n",
    "    color=\"Expenditure(million USD)\",\n",
    "    hover_name=\"Country\",\n",
    "    projection=\"natural earth\",\n",
    "    title=\"Expenditure of Countries (million USD)\",\n",
    "    color_continuous_scale='Viridis', \n",
    "    labels={'Expenditure(million USD) in 2021': 'Expenditure (million USD)'}  \n",
    ")\n",
    "fig.update_geos(showcountries=True, countrycolor=\"Black\") \n",
    "fig.show()"
   ]
  },
  {
   "cell_type": "code",
   "execution_count": 53,
   "id": "f8fa974d",
   "metadata": {},
   "outputs": [],
   "source": [
    "Ztotal_no_usa=Ztotal[~(Ztotal['Country']=='United States of America')]"
   ]
  },
  {
   "cell_type": "code",
   "execution_count": 54,
   "id": "c146301b",
   "metadata": {},
   "outputs": [
    {
     "data": {
      "application/vnd.plotly.v1+json": {
       "config": {
        "plotlyServerURL": "https://plot.ly"
       },
       "data": [
        {
         "coloraxis": "coloraxis",
         "geo": "geo",
         "hovertemplate": "<b>%{hovertext}</b><br><br>Country=%{location}<br>Expenditure(million USD)=%{z}<extra></extra>",
         "hovertext": [
          "Albania",
          "Armenia",
          "Australia",
          "Austria",
          "Azerbaijan",
          "Belgium",
          "Bulgaria",
          "Canada",
          "Chile",
          "China, Macao SAR",
          "Colombia",
          "Croatia",
          "Cyprus",
          "Czechia",
          "Denmark",
          "El Salvador",
          "Estonia",
          "Finland",
          "France",
          "Georgia",
          "Germany",
          "Greece",
          "Guatemala",
          "Hungary",
          "Iceland",
          "Indonesia",
          "Ireland",
          "Israel",
          "Italy",
          "Japan",
          "Kiribati",
          "Kyrgyzstan",
          "Latvia",
          "Lithuania",
          "Luxembourg",
          "Maldives",
          "Malta",
          "Mauritius",
          "Moldova, Republic of",
          "Mongolia",
          "Nepal",
          "Netherlands (Kingdom of the)",
          "New Zealand",
          "Norway",
          "Philippines",
          "Poland",
          "Portugal",
          "Romania",
          "Russian Federation",
          "Samoa",
          "San Marino",
          "Singapore",
          "Slovakia",
          "Slovenia",
          "South Africa",
          "Spain",
          "Sri Lanka",
          "Sweden",
          "Switzerland, Liechtenstein",
          "Thailand",
          "Türkiye",
          "Ukraine",
          "United Kingdom"
         ],
         "locationmode": "country names",
         "locations": [
          "Albania",
          "Armenia",
          "Australia",
          "Austria",
          "Azerbaijan",
          "Belgium",
          "Bulgaria",
          "Canada",
          "Chile",
          "China, Macao SAR",
          "Colombia",
          "Croatia",
          "Cyprus",
          "Czechia",
          "Denmark",
          "El Salvador",
          "Estonia",
          "Finland",
          "France",
          "Georgia",
          "Germany",
          "Greece",
          "Guatemala",
          "Hungary",
          "Iceland",
          "Indonesia",
          "Ireland",
          "Israel",
          "Italy",
          "Japan",
          "Kiribati",
          "Kyrgyzstan",
          "Latvia",
          "Lithuania",
          "Luxembourg",
          "Maldives",
          "Malta",
          "Mauritius",
          "Moldova, Republic of",
          "Mongolia",
          "Nepal",
          "Netherlands (Kingdom of the)",
          "New Zealand",
          "Norway",
          "Philippines",
          "Poland",
          "Portugal",
          "Romania",
          "Russian Federation",
          "Samoa",
          "San Marino",
          "Singapore",
          "Slovakia",
          "Slovenia",
          "South Africa",
          "Spain",
          "Sri Lanka",
          "Sweden",
          "Switzerland, Liechtenstein",
          "Thailand",
          "Türkiye",
          "Ukraine",
          "United Kingdom"
         ],
         "name": "",
         "type": "choropleth",
         "z": [
          5737.172,
          4063.226,
          719633.821,
          268791.503,
          17487.369,
          329680.109,
          34143.587,
          831756.29,
          108119.038,
          11585.195,
          108132.573,
          4442.324,
          12230.244,
          131071.508,
          202353.128,
          9482.2,
          15423.643,
          165498.486,
          1746521.865,
          6210.162,
          2183337.43,
          123440.241,
          14464.234,
          88047.852,
          12605.061,
          225046.66,
          125150.779,
          199550.475,
          1166379.463,
          2225634.412,
          250.104,
          2896.203,
          17521.352,
          24916.979,
          36672.283,
          2114.22,
          7726.015,
          3976.793,
          4638.65,
          4866.378,
          10455.239,
          471999.724,
          96016.41,
          236777.416,
          91483.845,
          300389.962,
          121274.584,
          113576.941,
          647701.052,
          294.771,
          811.218,
          77194.11,
          53999.629,
          30437.905,
          168264.71,
          722493.477,
          17785.125,
          314766.863,
          291968.372,
          133983.409,
          264520.022,
          80466.714,
          1511472.954
         ]
        }
       ],
       "layout": {
        "coloraxis": {
         "colorbar": {
          "title": {
           "text": "Expenditure(million USD)"
          }
         },
         "colorscale": [
          [
           0,
           "#440154"
          ],
          [
           0.1111111111111111,
           "#482878"
          ],
          [
           0.2222222222222222,
           "#3e4989"
          ],
          [
           0.3333333333333333,
           "#31688e"
          ],
          [
           0.4444444444444444,
           "#26828e"
          ],
          [
           0.5555555555555556,
           "#1f9e89"
          ],
          [
           0.6666666666666666,
           "#35b779"
          ],
          [
           0.7777777777777778,
           "#6ece58"
          ],
          [
           0.8888888888888888,
           "#b5de2b"
          ],
          [
           1,
           "#fde725"
          ]
         ]
        },
        "geo": {
         "center": {},
         "countrycolor": "Black",
         "domain": {
          "x": [
           0,
           1
          ],
          "y": [
           0,
           1
          ]
         },
         "projection": {
          "type": "natural earth"
         },
         "showcountries": true
        },
        "legend": {
         "tracegroupgap": 0
        },
        "template": {
         "data": {
          "bar": [
           {
            "error_x": {
             "color": "#2a3f5f"
            },
            "error_y": {
             "color": "#2a3f5f"
            },
            "marker": {
             "line": {
              "color": "#E5ECF6",
              "width": 0.5
             },
             "pattern": {
              "fillmode": "overlay",
              "size": 10,
              "solidity": 0.2
             }
            },
            "type": "bar"
           }
          ],
          "barpolar": [
           {
            "marker": {
             "line": {
              "color": "#E5ECF6",
              "width": 0.5
             },
             "pattern": {
              "fillmode": "overlay",
              "size": 10,
              "solidity": 0.2
             }
            },
            "type": "barpolar"
           }
          ],
          "carpet": [
           {
            "aaxis": {
             "endlinecolor": "#2a3f5f",
             "gridcolor": "white",
             "linecolor": "white",
             "minorgridcolor": "white",
             "startlinecolor": "#2a3f5f"
            },
            "baxis": {
             "endlinecolor": "#2a3f5f",
             "gridcolor": "white",
             "linecolor": "white",
             "minorgridcolor": "white",
             "startlinecolor": "#2a3f5f"
            },
            "type": "carpet"
           }
          ],
          "choropleth": [
           {
            "colorbar": {
             "outlinewidth": 0,
             "ticks": ""
            },
            "type": "choropleth"
           }
          ],
          "contour": [
           {
            "colorbar": {
             "outlinewidth": 0,
             "ticks": ""
            },
            "colorscale": [
             [
              0,
              "#0d0887"
             ],
             [
              0.1111111111111111,
              "#46039f"
             ],
             [
              0.2222222222222222,
              "#7201a8"
             ],
             [
              0.3333333333333333,
              "#9c179e"
             ],
             [
              0.4444444444444444,
              "#bd3786"
             ],
             [
              0.5555555555555556,
              "#d8576b"
             ],
             [
              0.6666666666666666,
              "#ed7953"
             ],
             [
              0.7777777777777778,
              "#fb9f3a"
             ],
             [
              0.8888888888888888,
              "#fdca26"
             ],
             [
              1,
              "#f0f921"
             ]
            ],
            "type": "contour"
           }
          ],
          "contourcarpet": [
           {
            "colorbar": {
             "outlinewidth": 0,
             "ticks": ""
            },
            "type": "contourcarpet"
           }
          ],
          "heatmap": [
           {
            "colorbar": {
             "outlinewidth": 0,
             "ticks": ""
            },
            "colorscale": [
             [
              0,
              "#0d0887"
             ],
             [
              0.1111111111111111,
              "#46039f"
             ],
             [
              0.2222222222222222,
              "#7201a8"
             ],
             [
              0.3333333333333333,
              "#9c179e"
             ],
             [
              0.4444444444444444,
              "#bd3786"
             ],
             [
              0.5555555555555556,
              "#d8576b"
             ],
             [
              0.6666666666666666,
              "#ed7953"
             ],
             [
              0.7777777777777778,
              "#fb9f3a"
             ],
             [
              0.8888888888888888,
              "#fdca26"
             ],
             [
              1,
              "#f0f921"
             ]
            ],
            "type": "heatmap"
           }
          ],
          "heatmapgl": [
           {
            "colorbar": {
             "outlinewidth": 0,
             "ticks": ""
            },
            "colorscale": [
             [
              0,
              "#0d0887"
             ],
             [
              0.1111111111111111,
              "#46039f"
             ],
             [
              0.2222222222222222,
              "#7201a8"
             ],
             [
              0.3333333333333333,
              "#9c179e"
             ],
             [
              0.4444444444444444,
              "#bd3786"
             ],
             [
              0.5555555555555556,
              "#d8576b"
             ],
             [
              0.6666666666666666,
              "#ed7953"
             ],
             [
              0.7777777777777778,
              "#fb9f3a"
             ],
             [
              0.8888888888888888,
              "#fdca26"
             ],
             [
              1,
              "#f0f921"
             ]
            ],
            "type": "heatmapgl"
           }
          ],
          "histogram": [
           {
            "marker": {
             "pattern": {
              "fillmode": "overlay",
              "size": 10,
              "solidity": 0.2
             }
            },
            "type": "histogram"
           }
          ],
          "histogram2d": [
           {
            "colorbar": {
             "outlinewidth": 0,
             "ticks": ""
            },
            "colorscale": [
             [
              0,
              "#0d0887"
             ],
             [
              0.1111111111111111,
              "#46039f"
             ],
             [
              0.2222222222222222,
              "#7201a8"
             ],
             [
              0.3333333333333333,
              "#9c179e"
             ],
             [
              0.4444444444444444,
              "#bd3786"
             ],
             [
              0.5555555555555556,
              "#d8576b"
             ],
             [
              0.6666666666666666,
              "#ed7953"
             ],
             [
              0.7777777777777778,
              "#fb9f3a"
             ],
             [
              0.8888888888888888,
              "#fdca26"
             ],
             [
              1,
              "#f0f921"
             ]
            ],
            "type": "histogram2d"
           }
          ],
          "histogram2dcontour": [
           {
            "colorbar": {
             "outlinewidth": 0,
             "ticks": ""
            },
            "colorscale": [
             [
              0,
              "#0d0887"
             ],
             [
              0.1111111111111111,
              "#46039f"
             ],
             [
              0.2222222222222222,
              "#7201a8"
             ],
             [
              0.3333333333333333,
              "#9c179e"
             ],
             [
              0.4444444444444444,
              "#bd3786"
             ],
             [
              0.5555555555555556,
              "#d8576b"
             ],
             [
              0.6666666666666666,
              "#ed7953"
             ],
             [
              0.7777777777777778,
              "#fb9f3a"
             ],
             [
              0.8888888888888888,
              "#fdca26"
             ],
             [
              1,
              "#f0f921"
             ]
            ],
            "type": "histogram2dcontour"
           }
          ],
          "mesh3d": [
           {
            "colorbar": {
             "outlinewidth": 0,
             "ticks": ""
            },
            "type": "mesh3d"
           }
          ],
          "parcoords": [
           {
            "line": {
             "colorbar": {
              "outlinewidth": 0,
              "ticks": ""
             }
            },
            "type": "parcoords"
           }
          ],
          "pie": [
           {
            "automargin": true,
            "type": "pie"
           }
          ],
          "scatter": [
           {
            "fillpattern": {
             "fillmode": "overlay",
             "size": 10,
             "solidity": 0.2
            },
            "type": "scatter"
           }
          ],
          "scatter3d": [
           {
            "line": {
             "colorbar": {
              "outlinewidth": 0,
              "ticks": ""
             }
            },
            "marker": {
             "colorbar": {
              "outlinewidth": 0,
              "ticks": ""
             }
            },
            "type": "scatter3d"
           }
          ],
          "scattercarpet": [
           {
            "marker": {
             "colorbar": {
              "outlinewidth": 0,
              "ticks": ""
             }
            },
            "type": "scattercarpet"
           }
          ],
          "scattergeo": [
           {
            "marker": {
             "colorbar": {
              "outlinewidth": 0,
              "ticks": ""
             }
            },
            "type": "scattergeo"
           }
          ],
          "scattergl": [
           {
            "marker": {
             "colorbar": {
              "outlinewidth": 0,
              "ticks": ""
             }
            },
            "type": "scattergl"
           }
          ],
          "scattermapbox": [
           {
            "marker": {
             "colorbar": {
              "outlinewidth": 0,
              "ticks": ""
             }
            },
            "type": "scattermapbox"
           }
          ],
          "scatterpolar": [
           {
            "marker": {
             "colorbar": {
              "outlinewidth": 0,
              "ticks": ""
             }
            },
            "type": "scatterpolar"
           }
          ],
          "scatterpolargl": [
           {
            "marker": {
             "colorbar": {
              "outlinewidth": 0,
              "ticks": ""
             }
            },
            "type": "scatterpolargl"
           }
          ],
          "scatterternary": [
           {
            "marker": {
             "colorbar": {
              "outlinewidth": 0,
              "ticks": ""
             }
            },
            "type": "scatterternary"
           }
          ],
          "surface": [
           {
            "colorbar": {
             "outlinewidth": 0,
             "ticks": ""
            },
            "colorscale": [
             [
              0,
              "#0d0887"
             ],
             [
              0.1111111111111111,
              "#46039f"
             ],
             [
              0.2222222222222222,
              "#7201a8"
             ],
             [
              0.3333333333333333,
              "#9c179e"
             ],
             [
              0.4444444444444444,
              "#bd3786"
             ],
             [
              0.5555555555555556,
              "#d8576b"
             ],
             [
              0.6666666666666666,
              "#ed7953"
             ],
             [
              0.7777777777777778,
              "#fb9f3a"
             ],
             [
              0.8888888888888888,
              "#fdca26"
             ],
             [
              1,
              "#f0f921"
             ]
            ],
            "type": "surface"
           }
          ],
          "table": [
           {
            "cells": {
             "fill": {
              "color": "#EBF0F8"
             },
             "line": {
              "color": "white"
             }
            },
            "header": {
             "fill": {
              "color": "#C8D4E3"
             },
             "line": {
              "color": "white"
             }
            },
            "type": "table"
           }
          ]
         },
         "layout": {
          "annotationdefaults": {
           "arrowcolor": "#2a3f5f",
           "arrowhead": 0,
           "arrowwidth": 1
          },
          "autotypenumbers": "strict",
          "coloraxis": {
           "colorbar": {
            "outlinewidth": 0,
            "ticks": ""
           }
          },
          "colorscale": {
           "diverging": [
            [
             0,
             "#8e0152"
            ],
            [
             0.1,
             "#c51b7d"
            ],
            [
             0.2,
             "#de77ae"
            ],
            [
             0.3,
             "#f1b6da"
            ],
            [
             0.4,
             "#fde0ef"
            ],
            [
             0.5,
             "#f7f7f7"
            ],
            [
             0.6,
             "#e6f5d0"
            ],
            [
             0.7,
             "#b8e186"
            ],
            [
             0.8,
             "#7fbc41"
            ],
            [
             0.9,
             "#4d9221"
            ],
            [
             1,
             "#276419"
            ]
           ],
           "sequential": [
            [
             0,
             "#0d0887"
            ],
            [
             0.1111111111111111,
             "#46039f"
            ],
            [
             0.2222222222222222,
             "#7201a8"
            ],
            [
             0.3333333333333333,
             "#9c179e"
            ],
            [
             0.4444444444444444,
             "#bd3786"
            ],
            [
             0.5555555555555556,
             "#d8576b"
            ],
            [
             0.6666666666666666,
             "#ed7953"
            ],
            [
             0.7777777777777778,
             "#fb9f3a"
            ],
            [
             0.8888888888888888,
             "#fdca26"
            ],
            [
             1,
             "#f0f921"
            ]
           ],
           "sequentialminus": [
            [
             0,
             "#0d0887"
            ],
            [
             0.1111111111111111,
             "#46039f"
            ],
            [
             0.2222222222222222,
             "#7201a8"
            ],
            [
             0.3333333333333333,
             "#9c179e"
            ],
            [
             0.4444444444444444,
             "#bd3786"
            ],
            [
             0.5555555555555556,
             "#d8576b"
            ],
            [
             0.6666666666666666,
             "#ed7953"
            ],
            [
             0.7777777777777778,
             "#fb9f3a"
            ],
            [
             0.8888888888888888,
             "#fdca26"
            ],
            [
             1,
             "#f0f921"
            ]
           ]
          },
          "colorway": [
           "#636efa",
           "#EF553B",
           "#00cc96",
           "#ab63fa",
           "#FFA15A",
           "#19d3f3",
           "#FF6692",
           "#B6E880",
           "#FF97FF",
           "#FECB52"
          ],
          "font": {
           "color": "#2a3f5f"
          },
          "geo": {
           "bgcolor": "white",
           "lakecolor": "white",
           "landcolor": "#E5ECF6",
           "showlakes": true,
           "showland": true,
           "subunitcolor": "white"
          },
          "hoverlabel": {
           "align": "left"
          },
          "hovermode": "closest",
          "mapbox": {
           "style": "light"
          },
          "paper_bgcolor": "white",
          "plot_bgcolor": "#E5ECF6",
          "polar": {
           "angularaxis": {
            "gridcolor": "white",
            "linecolor": "white",
            "ticks": ""
           },
           "bgcolor": "#E5ECF6",
           "radialaxis": {
            "gridcolor": "white",
            "linecolor": "white",
            "ticks": ""
           }
          },
          "scene": {
           "xaxis": {
            "backgroundcolor": "#E5ECF6",
            "gridcolor": "white",
            "gridwidth": 2,
            "linecolor": "white",
            "showbackground": true,
            "ticks": "",
            "zerolinecolor": "white"
           },
           "yaxis": {
            "backgroundcolor": "#E5ECF6",
            "gridcolor": "white",
            "gridwidth": 2,
            "linecolor": "white",
            "showbackground": true,
            "ticks": "",
            "zerolinecolor": "white"
           },
           "zaxis": {
            "backgroundcolor": "#E5ECF6",
            "gridcolor": "white",
            "gridwidth": 2,
            "linecolor": "white",
            "showbackground": true,
            "ticks": "",
            "zerolinecolor": "white"
           }
          },
          "shapedefaults": {
           "line": {
            "color": "#2a3f5f"
           }
          },
          "ternary": {
           "aaxis": {
            "gridcolor": "white",
            "linecolor": "white",
            "ticks": ""
           },
           "baxis": {
            "gridcolor": "white",
            "linecolor": "white",
            "ticks": ""
           },
           "bgcolor": "#E5ECF6",
           "caxis": {
            "gridcolor": "white",
            "linecolor": "white",
            "ticks": ""
           }
          },
          "title": {
           "x": 0.05
          },
          "xaxis": {
           "automargin": true,
           "gridcolor": "white",
           "linecolor": "white",
           "ticks": "",
           "title": {
            "standoff": 15
           },
           "zerolinecolor": "white",
           "zerolinewidth": 2
          },
          "yaxis": {
           "automargin": true,
           "gridcolor": "white",
           "linecolor": "white",
           "ticks": "",
           "title": {
            "standoff": 15
           },
           "zerolinecolor": "white",
           "zerolinewidth": 2
          }
         }
        },
        "title": {
         "text": "Expenditure of Countries (million USD)"
        }
       }
      },
      "text/html": [
       "<div>                            <div id=\"2edd09f8-b0f5-4c07-b333-619ae14e5bbf\" class=\"plotly-graph-div\" style=\"height:525px; width:100%;\"></div>            <script type=\"text/javascript\">                require([\"plotly\"], function(Plotly) {                    window.PLOTLYENV=window.PLOTLYENV || {};                                    if (document.getElementById(\"2edd09f8-b0f5-4c07-b333-619ae14e5bbf\")) {                    Plotly.newPlot(                        \"2edd09f8-b0f5-4c07-b333-619ae14e5bbf\",                        [{\"coloraxis\":\"coloraxis\",\"geo\":\"geo\",\"hovertemplate\":\"<b>%{hovertext}</b><br><br>Country=%{location}<br>Expenditure(million USD)=%{z}<extra></extra>\",\"hovertext\":[\"Albania\",\"Armenia\",\"Australia\",\"Austria\",\"Azerbaijan\",\"Belgium\",\"Bulgaria\",\"Canada\",\"Chile\",\"China, Macao SAR\",\"Colombia\",\"Croatia\",\"Cyprus\",\"Czechia\",\"Denmark\",\"El Salvador\",\"Estonia\",\"Finland\",\"France\",\"Georgia\",\"Germany\",\"Greece\",\"Guatemala\",\"Hungary\",\"Iceland\",\"Indonesia\",\"Ireland\",\"Israel\",\"Italy\",\"Japan\",\"Kiribati\",\"Kyrgyzstan\",\"Latvia\",\"Lithuania\",\"Luxembourg\",\"Maldives\",\"Malta\",\"Mauritius\",\"Moldova, Republic of\",\"Mongolia\",\"Nepal\",\"Netherlands (Kingdom of the)\",\"New Zealand\",\"Norway\",\"Philippines\",\"Poland\",\"Portugal\",\"Romania\",\"Russian Federation\",\"Samoa\",\"San Marino\",\"Singapore\",\"Slovakia\",\"Slovenia\",\"South Africa\",\"Spain\",\"Sri Lanka\",\"Sweden\",\"Switzerland, Liechtenstein\",\"Thailand\",\"T\\u00fcrkiye\",\"Ukraine\",\"United Kingdom\"],\"locationmode\":\"country names\",\"locations\":[\"Albania\",\"Armenia\",\"Australia\",\"Austria\",\"Azerbaijan\",\"Belgium\",\"Bulgaria\",\"Canada\",\"Chile\",\"China, Macao SAR\",\"Colombia\",\"Croatia\",\"Cyprus\",\"Czechia\",\"Denmark\",\"El Salvador\",\"Estonia\",\"Finland\",\"France\",\"Georgia\",\"Germany\",\"Greece\",\"Guatemala\",\"Hungary\",\"Iceland\",\"Indonesia\",\"Ireland\",\"Israel\",\"Italy\",\"Japan\",\"Kiribati\",\"Kyrgyzstan\",\"Latvia\",\"Lithuania\",\"Luxembourg\",\"Maldives\",\"Malta\",\"Mauritius\",\"Moldova, Republic of\",\"Mongolia\",\"Nepal\",\"Netherlands (Kingdom of the)\",\"New Zealand\",\"Norway\",\"Philippines\",\"Poland\",\"Portugal\",\"Romania\",\"Russian Federation\",\"Samoa\",\"San Marino\",\"Singapore\",\"Slovakia\",\"Slovenia\",\"South Africa\",\"Spain\",\"Sri Lanka\",\"Sweden\",\"Switzerland, Liechtenstein\",\"Thailand\",\"T\\u00fcrkiye\",\"Ukraine\",\"United Kingdom\"],\"name\":\"\",\"z\":[5737.172,4063.226,719633.821,268791.503,17487.369,329680.109,34143.587,831756.29,108119.038,11585.195,108132.573,4442.324,12230.244,131071.508,202353.128,9482.2,15423.643,165498.486,1746521.865,6210.162,2183337.43,123440.241,14464.234,88047.852,12605.061,225046.66,125150.779,199550.475,1166379.463,2225634.412,250.104,2896.203,17521.352,24916.979,36672.283,2114.22,7726.015,3976.793,4638.65,4866.378,10455.239,471999.724,96016.41,236777.416,91483.845,300389.962,121274.584,113576.941,647701.052,294.771,811.218,77194.11,53999.629,30437.905,168264.71,722493.477,17785.125,314766.863,291968.372,133983.409,264520.022,80466.714,1511472.954],\"type\":\"choropleth\"}],                        {\"template\":{\"data\":{\"histogram2dcontour\":[{\"type\":\"histogram2dcontour\",\"colorbar\":{\"outlinewidth\":0,\"ticks\":\"\"},\"colorscale\":[[0.0,\"#0d0887\"],[0.1111111111111111,\"#46039f\"],[0.2222222222222222,\"#7201a8\"],[0.3333333333333333,\"#9c179e\"],[0.4444444444444444,\"#bd3786\"],[0.5555555555555556,\"#d8576b\"],[0.6666666666666666,\"#ed7953\"],[0.7777777777777778,\"#fb9f3a\"],[0.8888888888888888,\"#fdca26\"],[1.0,\"#f0f921\"]]}],\"choropleth\":[{\"type\":\"choropleth\",\"colorbar\":{\"outlinewidth\":0,\"ticks\":\"\"}}],\"histogram2d\":[{\"type\":\"histogram2d\",\"colorbar\":{\"outlinewidth\":0,\"ticks\":\"\"},\"colorscale\":[[0.0,\"#0d0887\"],[0.1111111111111111,\"#46039f\"],[0.2222222222222222,\"#7201a8\"],[0.3333333333333333,\"#9c179e\"],[0.4444444444444444,\"#bd3786\"],[0.5555555555555556,\"#d8576b\"],[0.6666666666666666,\"#ed7953\"],[0.7777777777777778,\"#fb9f3a\"],[0.8888888888888888,\"#fdca26\"],[1.0,\"#f0f921\"]]}],\"heatmap\":[{\"type\":\"heatmap\",\"colorbar\":{\"outlinewidth\":0,\"ticks\":\"\"},\"colorscale\":[[0.0,\"#0d0887\"],[0.1111111111111111,\"#46039f\"],[0.2222222222222222,\"#7201a8\"],[0.3333333333333333,\"#9c179e\"],[0.4444444444444444,\"#bd3786\"],[0.5555555555555556,\"#d8576b\"],[0.6666666666666666,\"#ed7953\"],[0.7777777777777778,\"#fb9f3a\"],[0.8888888888888888,\"#fdca26\"],[1.0,\"#f0f921\"]]}],\"heatmapgl\":[{\"type\":\"heatmapgl\",\"colorbar\":{\"outlinewidth\":0,\"ticks\":\"\"},\"colorscale\":[[0.0,\"#0d0887\"],[0.1111111111111111,\"#46039f\"],[0.2222222222222222,\"#7201a8\"],[0.3333333333333333,\"#9c179e\"],[0.4444444444444444,\"#bd3786\"],[0.5555555555555556,\"#d8576b\"],[0.6666666666666666,\"#ed7953\"],[0.7777777777777778,\"#fb9f3a\"],[0.8888888888888888,\"#fdca26\"],[1.0,\"#f0f921\"]]}],\"contourcarpet\":[{\"type\":\"contourcarpet\",\"colorbar\":{\"outlinewidth\":0,\"ticks\":\"\"}}],\"contour\":[{\"type\":\"contour\",\"colorbar\":{\"outlinewidth\":0,\"ticks\":\"\"},\"colorscale\":[[0.0,\"#0d0887\"],[0.1111111111111111,\"#46039f\"],[0.2222222222222222,\"#7201a8\"],[0.3333333333333333,\"#9c179e\"],[0.4444444444444444,\"#bd3786\"],[0.5555555555555556,\"#d8576b\"],[0.6666666666666666,\"#ed7953\"],[0.7777777777777778,\"#fb9f3a\"],[0.8888888888888888,\"#fdca26\"],[1.0,\"#f0f921\"]]}],\"surface\":[{\"type\":\"surface\",\"colorbar\":{\"outlinewidth\":0,\"ticks\":\"\"},\"colorscale\":[[0.0,\"#0d0887\"],[0.1111111111111111,\"#46039f\"],[0.2222222222222222,\"#7201a8\"],[0.3333333333333333,\"#9c179e\"],[0.4444444444444444,\"#bd3786\"],[0.5555555555555556,\"#d8576b\"],[0.6666666666666666,\"#ed7953\"],[0.7777777777777778,\"#fb9f3a\"],[0.8888888888888888,\"#fdca26\"],[1.0,\"#f0f921\"]]}],\"mesh3d\":[{\"type\":\"mesh3d\",\"colorbar\":{\"outlinewidth\":0,\"ticks\":\"\"}}],\"scatter\":[{\"fillpattern\":{\"fillmode\":\"overlay\",\"size\":10,\"solidity\":0.2},\"type\":\"scatter\"}],\"parcoords\":[{\"type\":\"parcoords\",\"line\":{\"colorbar\":{\"outlinewidth\":0,\"ticks\":\"\"}}}],\"scatterpolargl\":[{\"type\":\"scatterpolargl\",\"marker\":{\"colorbar\":{\"outlinewidth\":0,\"ticks\":\"\"}}}],\"bar\":[{\"error_x\":{\"color\":\"#2a3f5f\"},\"error_y\":{\"color\":\"#2a3f5f\"},\"marker\":{\"line\":{\"color\":\"#E5ECF6\",\"width\":0.5},\"pattern\":{\"fillmode\":\"overlay\",\"size\":10,\"solidity\":0.2}},\"type\":\"bar\"}],\"scattergeo\":[{\"type\":\"scattergeo\",\"marker\":{\"colorbar\":{\"outlinewidth\":0,\"ticks\":\"\"}}}],\"scatterpolar\":[{\"type\":\"scatterpolar\",\"marker\":{\"colorbar\":{\"outlinewidth\":0,\"ticks\":\"\"}}}],\"histogram\":[{\"marker\":{\"pattern\":{\"fillmode\":\"overlay\",\"size\":10,\"solidity\":0.2}},\"type\":\"histogram\"}],\"scattergl\":[{\"type\":\"scattergl\",\"marker\":{\"colorbar\":{\"outlinewidth\":0,\"ticks\":\"\"}}}],\"scatter3d\":[{\"type\":\"scatter3d\",\"line\":{\"colorbar\":{\"outlinewidth\":0,\"ticks\":\"\"}},\"marker\":{\"colorbar\":{\"outlinewidth\":0,\"ticks\":\"\"}}}],\"scattermapbox\":[{\"type\":\"scattermapbox\",\"marker\":{\"colorbar\":{\"outlinewidth\":0,\"ticks\":\"\"}}}],\"scatterternary\":[{\"type\":\"scatterternary\",\"marker\":{\"colorbar\":{\"outlinewidth\":0,\"ticks\":\"\"}}}],\"scattercarpet\":[{\"type\":\"scattercarpet\",\"marker\":{\"colorbar\":{\"outlinewidth\":0,\"ticks\":\"\"}}}],\"carpet\":[{\"aaxis\":{\"endlinecolor\":\"#2a3f5f\",\"gridcolor\":\"white\",\"linecolor\":\"white\",\"minorgridcolor\":\"white\",\"startlinecolor\":\"#2a3f5f\"},\"baxis\":{\"endlinecolor\":\"#2a3f5f\",\"gridcolor\":\"white\",\"linecolor\":\"white\",\"minorgridcolor\":\"white\",\"startlinecolor\":\"#2a3f5f\"},\"type\":\"carpet\"}],\"table\":[{\"cells\":{\"fill\":{\"color\":\"#EBF0F8\"},\"line\":{\"color\":\"white\"}},\"header\":{\"fill\":{\"color\":\"#C8D4E3\"},\"line\":{\"color\":\"white\"}},\"type\":\"table\"}],\"barpolar\":[{\"marker\":{\"line\":{\"color\":\"#E5ECF6\",\"width\":0.5},\"pattern\":{\"fillmode\":\"overlay\",\"size\":10,\"solidity\":0.2}},\"type\":\"barpolar\"}],\"pie\":[{\"automargin\":true,\"type\":\"pie\"}]},\"layout\":{\"autotypenumbers\":\"strict\",\"colorway\":[\"#636efa\",\"#EF553B\",\"#00cc96\",\"#ab63fa\",\"#FFA15A\",\"#19d3f3\",\"#FF6692\",\"#B6E880\",\"#FF97FF\",\"#FECB52\"],\"font\":{\"color\":\"#2a3f5f\"},\"hovermode\":\"closest\",\"hoverlabel\":{\"align\":\"left\"},\"paper_bgcolor\":\"white\",\"plot_bgcolor\":\"#E5ECF6\",\"polar\":{\"bgcolor\":\"#E5ECF6\",\"angularaxis\":{\"gridcolor\":\"white\",\"linecolor\":\"white\",\"ticks\":\"\"},\"radialaxis\":{\"gridcolor\":\"white\",\"linecolor\":\"white\",\"ticks\":\"\"}},\"ternary\":{\"bgcolor\":\"#E5ECF6\",\"aaxis\":{\"gridcolor\":\"white\",\"linecolor\":\"white\",\"ticks\":\"\"},\"baxis\":{\"gridcolor\":\"white\",\"linecolor\":\"white\",\"ticks\":\"\"},\"caxis\":{\"gridcolor\":\"white\",\"linecolor\":\"white\",\"ticks\":\"\"}},\"coloraxis\":{\"colorbar\":{\"outlinewidth\":0,\"ticks\":\"\"}},\"colorscale\":{\"sequential\":[[0.0,\"#0d0887\"],[0.1111111111111111,\"#46039f\"],[0.2222222222222222,\"#7201a8\"],[0.3333333333333333,\"#9c179e\"],[0.4444444444444444,\"#bd3786\"],[0.5555555555555556,\"#d8576b\"],[0.6666666666666666,\"#ed7953\"],[0.7777777777777778,\"#fb9f3a\"],[0.8888888888888888,\"#fdca26\"],[1.0,\"#f0f921\"]],\"sequentialminus\":[[0.0,\"#0d0887\"],[0.1111111111111111,\"#46039f\"],[0.2222222222222222,\"#7201a8\"],[0.3333333333333333,\"#9c179e\"],[0.4444444444444444,\"#bd3786\"],[0.5555555555555556,\"#d8576b\"],[0.6666666666666666,\"#ed7953\"],[0.7777777777777778,\"#fb9f3a\"],[0.8888888888888888,\"#fdca26\"],[1.0,\"#f0f921\"]],\"diverging\":[[0,\"#8e0152\"],[0.1,\"#c51b7d\"],[0.2,\"#de77ae\"],[0.3,\"#f1b6da\"],[0.4,\"#fde0ef\"],[0.5,\"#f7f7f7\"],[0.6,\"#e6f5d0\"],[0.7,\"#b8e186\"],[0.8,\"#7fbc41\"],[0.9,\"#4d9221\"],[1,\"#276419\"]]},\"xaxis\":{\"gridcolor\":\"white\",\"linecolor\":\"white\",\"ticks\":\"\",\"title\":{\"standoff\":15},\"zerolinecolor\":\"white\",\"automargin\":true,\"zerolinewidth\":2},\"yaxis\":{\"gridcolor\":\"white\",\"linecolor\":\"white\",\"ticks\":\"\",\"title\":{\"standoff\":15},\"zerolinecolor\":\"white\",\"automargin\":true,\"zerolinewidth\":2},\"scene\":{\"xaxis\":{\"backgroundcolor\":\"#E5ECF6\",\"gridcolor\":\"white\",\"linecolor\":\"white\",\"showbackground\":true,\"ticks\":\"\",\"zerolinecolor\":\"white\",\"gridwidth\":2},\"yaxis\":{\"backgroundcolor\":\"#E5ECF6\",\"gridcolor\":\"white\",\"linecolor\":\"white\",\"showbackground\":true,\"ticks\":\"\",\"zerolinecolor\":\"white\",\"gridwidth\":2},\"zaxis\":{\"backgroundcolor\":\"#E5ECF6\",\"gridcolor\":\"white\",\"linecolor\":\"white\",\"showbackground\":true,\"ticks\":\"\",\"zerolinecolor\":\"white\",\"gridwidth\":2}},\"shapedefaults\":{\"line\":{\"color\":\"#2a3f5f\"}},\"annotationdefaults\":{\"arrowcolor\":\"#2a3f5f\",\"arrowhead\":0,\"arrowwidth\":1},\"geo\":{\"bgcolor\":\"white\",\"landcolor\":\"#E5ECF6\",\"subunitcolor\":\"white\",\"showland\":true,\"showlakes\":true,\"lakecolor\":\"white\"},\"title\":{\"x\":0.05},\"mapbox\":{\"style\":\"light\"}}},\"geo\":{\"domain\":{\"x\":[0.0,1.0],\"y\":[0.0,1.0]},\"projection\":{\"type\":\"natural earth\"},\"center\":{},\"showcountries\":true,\"countrycolor\":\"Black\"},\"coloraxis\":{\"colorbar\":{\"title\":{\"text\":\"Expenditure(million USD)\"}},\"colorscale\":[[0.0,\"#440154\"],[0.1111111111111111,\"#482878\"],[0.2222222222222222,\"#3e4989\"],[0.3333333333333333,\"#31688e\"],[0.4444444444444444,\"#26828e\"],[0.5555555555555556,\"#1f9e89\"],[0.6666666666666666,\"#35b779\"],[0.7777777777777778,\"#6ece58\"],[0.8888888888888888,\"#b5de2b\"],[1.0,\"#fde725\"]]},\"legend\":{\"tracegroupgap\":0},\"title\":{\"text\":\"Expenditure of Countries (million USD)\"}},                        {\"responsive\": true}                    ).then(function(){\n",
       "                            \n",
       "var gd = document.getElementById('2edd09f8-b0f5-4c07-b333-619ae14e5bbf');\n",
       "var x = new MutationObserver(function (mutations, observer) {{\n",
       "        var display = window.getComputedStyle(gd).display;\n",
       "        if (!display || display === 'none') {{\n",
       "            console.log([gd, 'removed!']);\n",
       "            Plotly.purge(gd);\n",
       "            observer.disconnect();\n",
       "        }}\n",
       "}});\n",
       "\n",
       "// Listen for the removal of the full notebook cells\n",
       "var notebookContainer = gd.closest('#notebook-container');\n",
       "if (notebookContainer) {{\n",
       "    x.observe(notebookContainer, {childList: true});\n",
       "}}\n",
       "\n",
       "// Listen for the clearing of the current output cell\n",
       "var outputEl = gd.closest('.output');\n",
       "if (outputEl) {{\n",
       "    x.observe(outputEl, {childList: true});\n",
       "}}\n",
       "\n",
       "                        })                };                });            </script>        </div>"
      ]
     },
     "metadata": {},
     "output_type": "display_data"
    }
   ],
   "source": [
    "fig = px.choropleth(\n",
    "    data_frame=Ztotal_no_usa,  \n",
    "    locations=\"Country\",\n",
    "    locationmode=\"country names\",  \n",
    "    color=\"Expenditure(million USD)\",\n",
    "    hover_name=\"Country\",\n",
    "    projection=\"natural earth\",\n",
    "    title=\"Expenditure of Countries (million USD)\",\n",
    "    color_continuous_scale='Viridis', \n",
    "    labels={'Expenditure(million USD) in 2021': 'Expenditure (million USD)'}\n",
    ")\n",
    "fig.update_geos(showcountries=True, countrycolor=\"Black\") \n",
    "fig.show()"
   ]
  },
  {
   "cell_type": "code",
   "execution_count": null,
   "id": "538f6496",
   "metadata": {},
   "outputs": [],
   "source": []
  }
 ],
 "metadata": {
  "kernelspec": {
   "display_name": "Python 3 (ipykernel)",
   "language": "python",
   "name": "python3"
  },
  "language_info": {
   "codemirror_mode": {
    "name": "ipython",
    "version": 3
   },
   "file_extension": ".py",
   "mimetype": "text/x-python",
   "name": "python",
   "nbconvert_exporter": "python",
   "pygments_lexer": "ipython3",
   "version": "3.9.13"
  }
 },
 "nbformat": 4,
 "nbformat_minor": 5
}
